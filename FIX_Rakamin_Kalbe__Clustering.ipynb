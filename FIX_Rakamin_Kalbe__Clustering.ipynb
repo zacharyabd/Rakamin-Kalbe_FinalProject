{
  "cells": [
    {
      "cell_type": "markdown",
      "metadata": {
        "id": "66wfeHclondL"
      },
      "source": [
        "# MOHAMMAD ZACHARY ABIDIN\n",
        "\n",
        "## Machine Learning CLUSTERING"
      ]
    },
    {
      "cell_type": "markdown",
      "source": [
        "Tujuan dari pembuatan model machine learning ini adalah untuk dapat membuat cluster customer-customer yang mirip\n",
        "* Data cleansing terlebih dahulu, merubah tipe data\n",
        "supaya sesuai\n",
        "* Data merge untuk menggabungkan semua data\n",
        "* Membuat data baru untuk clustering, yaitu groupby by\n",
        "* customerID lalu yang di aggregasi adalah :\n",
        "  1.   Transaction id count\n",
        "  2.   Qty sum\n",
        "  3.   Total amount sum\n",
        "\n",
        "* Menggunakan metode clustering KMeans"
      ],
      "metadata": {
        "id": "xbE1JjgxVCRD"
      }
    },
    {
      "cell_type": "markdown",
      "metadata": {
        "id": "C3dXQSXwpDgO"
      },
      "source": [
        "# Apa itu clustering?\n",
        "\n",
        "* Clustering merupakan sebuah teknik yang digunakan untuk menemukan sub-kelompok atau kluster. Prinsip dari clustering adalah data-data yang termasuk dalam kluster yang sama “diharapkan” memiliki kesamaan satu dengan yang lainnya, sedangkan data-data yang ada dalam kluster yang berbeda cukup berbeda dari satu kluster dengan cluster yang lainnya.\n",
        "\n",
        "* Meskipun tanpa label, clustering memanfaatkan “karakter/pola” pada data bahwa data yang “mirip” akan berdekatan, seperti pada gambar di samping.\n"
      ]
    },
    {
      "cell_type": "markdown",
      "metadata": {
        "id": "t-DZRyJrCCOC"
      },
      "source": [
        "## Libraries yang digunakan\n",
        "\n",
        "Cell berikut berisi semua _library_ yang akan digunakan"
      ]
    },
    {
      "cell_type": "code",
      "execution_count": null,
      "metadata": {
        "id": "9VM4pYWaVNRX"
      },
      "outputs": [],
      "source": [
        "from pprint import pprint\n",
        "from time import time\n",
        "\n",
        "import matplotlib.pyplot as plt\n",
        "import numpy as np\n",
        "import pandas as pd\n",
        "import seaborn as sns\n",
        "from sklearn.cluster import KMeans, MiniBatchKMeans\n",
        "from sklearn.metrics import silhouette_score\n",
        "from sklearn.preprocessing import StandardScaler, OneHotEncoder\n",
        "from yellowbrick.cluster import SilhouetteVisualizer"
      ]
    },
    {
      "cell_type": "markdown",
      "metadata": {
        "id": "YVXfDaCD-aQd"
      },
      "source": [
        "## 1 Upload Dataset and Exploration"
      ]
    },
    {
      "cell_type": "markdown",
      "metadata": {
        "id": "mqqtpqz9O_17"
      },
      "source": [
        "## 1.1 Uplaod Dataset\n",
        "Mount Drive pada folder Google Colab."
      ]
    },
    {
      "cell_type": "code",
      "execution_count": null,
      "metadata": {
        "colab": {
          "base_uri": "https://localhost:8080/"
        },
        "id": "2K_Gchv4Pg55",
        "outputId": "1f153755-b34b-4cc3-a67e-ac2d9f464d3b"
      },
      "outputs": [
        {
          "output_type": "stream",
          "name": "stdout",
          "text": [
            "Mounted at /content/drive\n"
          ]
        }
      ],
      "source": [
        "from google.colab import drive\n",
        "drive.mount('/content/drive')"
      ]
    },
    {
      "cell_type": "markdown",
      "source": [
        "Uplaod data yang sudah di gabungkan khusus untuk Clustering\n"
      ],
      "metadata": {
        "id": "p6trZANwXLYD"
      }
    },
    {
      "cell_type": "code",
      "execution_count": null,
      "metadata": {
        "id": "hEzOK82LCWz9"
      },
      "outputs": [],
      "source": [
        "# df_gab adalah variabel data gabungan\n",
        "df_gab = pd.read_csv(\"/content/drive/MyDrive/Colab Notebooks/Rakamin_Kalbe/dataset/Data_ML_Clustering.csv\")"
      ]
    },
    {
      "cell_type": "code",
      "execution_count": null,
      "metadata": {
        "colab": {
          "base_uri": "https://localhost:8080/"
        },
        "id": "ooETSIVQUO9e",
        "outputId": "3fe7f911-03bd-480f-fa5a-38e540279709"
      },
      "outputs": [
        {
          "output_type": "stream",
          "name": "stdout",
          "text": [
            "Jumlah data gabungan: 447\n"
          ]
        }
      ],
      "source": [
        "print(\"Jumlah data gabungan:\", df_gab.shape[0])"
      ]
    },
    {
      "cell_type": "markdown",
      "metadata": {
        "id": "KYb7elQKVxx1"
      },
      "source": [
        "> **Insights:**\n",
        "\n",
        "Dari angka di atas, terdapat total kurang lebih 450 customer dengan total banyak transaksi dan total jumlah pembelian di setiap customer."
      ]
    },
    {
      "cell_type": "markdown",
      "metadata": {
        "id": "_qm41uqL-tNw"
      },
      "source": [
        "### 1.2 Exploration"
      ]
    },
    {
      "cell_type": "code",
      "execution_count": null,
      "metadata": {
        "colab": {
          "base_uri": "https://localhost:8080/",
          "height": 206
        },
        "id": "MVkxrjsEPGVi",
        "outputId": "53a133b7-f5f4-44c4-cdfc-8c3c73cbdb45"
      },
      "outputs": [
        {
          "output_type": "display_data",
          "data": {
            "text/plain": [
              "   customerid  tot_transaksi  tot_qty  tot_amount\n",
              "0           1             17       60      623300\n",
              "1           2             13       57      392300\n",
              "2           3             15       56      446200\n",
              "3           4             10       46      302500\n",
              "4           5              7       27      268600"
            ],
            "text/html": [
              "\n",
              "\n",
              "  <div id=\"df-795c7020-4535-4c4a-9057-177c28e544f8\">\n",
              "    <div class=\"colab-df-container\">\n",
              "      <div>\n",
              "<style scoped>\n",
              "    .dataframe tbody tr th:only-of-type {\n",
              "        vertical-align: middle;\n",
              "    }\n",
              "\n",
              "    .dataframe tbody tr th {\n",
              "        vertical-align: top;\n",
              "    }\n",
              "\n",
              "    .dataframe thead th {\n",
              "        text-align: right;\n",
              "    }\n",
              "</style>\n",
              "<table border=\"1\" class=\"dataframe\">\n",
              "  <thead>\n",
              "    <tr style=\"text-align: right;\">\n",
              "      <th></th>\n",
              "      <th>customerid</th>\n",
              "      <th>tot_transaksi</th>\n",
              "      <th>tot_qty</th>\n",
              "      <th>tot_amount</th>\n",
              "    </tr>\n",
              "  </thead>\n",
              "  <tbody>\n",
              "    <tr>\n",
              "      <th>0</th>\n",
              "      <td>1</td>\n",
              "      <td>17</td>\n",
              "      <td>60</td>\n",
              "      <td>623300</td>\n",
              "    </tr>\n",
              "    <tr>\n",
              "      <th>1</th>\n",
              "      <td>2</td>\n",
              "      <td>13</td>\n",
              "      <td>57</td>\n",
              "      <td>392300</td>\n",
              "    </tr>\n",
              "    <tr>\n",
              "      <th>2</th>\n",
              "      <td>3</td>\n",
              "      <td>15</td>\n",
              "      <td>56</td>\n",
              "      <td>446200</td>\n",
              "    </tr>\n",
              "    <tr>\n",
              "      <th>3</th>\n",
              "      <td>4</td>\n",
              "      <td>10</td>\n",
              "      <td>46</td>\n",
              "      <td>302500</td>\n",
              "    </tr>\n",
              "    <tr>\n",
              "      <th>4</th>\n",
              "      <td>5</td>\n",
              "      <td>7</td>\n",
              "      <td>27</td>\n",
              "      <td>268600</td>\n",
              "    </tr>\n",
              "  </tbody>\n",
              "</table>\n",
              "</div>\n",
              "      <button class=\"colab-df-convert\" onclick=\"convertToInteractive('df-795c7020-4535-4c4a-9057-177c28e544f8')\"\n",
              "              title=\"Convert this dataframe to an interactive table.\"\n",
              "              style=\"display:none;\">\n",
              "\n",
              "  <svg xmlns=\"http://www.w3.org/2000/svg\" height=\"24px\"viewBox=\"0 0 24 24\"\n",
              "       width=\"24px\">\n",
              "    <path d=\"M0 0h24v24H0V0z\" fill=\"none\"/>\n",
              "    <path d=\"M18.56 5.44l.94 2.06.94-2.06 2.06-.94-2.06-.94-.94-2.06-.94 2.06-2.06.94zm-11 1L8.5 8.5l.94-2.06 2.06-.94-2.06-.94L8.5 2.5l-.94 2.06-2.06.94zm10 10l.94 2.06.94-2.06 2.06-.94-2.06-.94-.94-2.06-.94 2.06-2.06.94z\"/><path d=\"M17.41 7.96l-1.37-1.37c-.4-.4-.92-.59-1.43-.59-.52 0-1.04.2-1.43.59L10.3 9.45l-7.72 7.72c-.78.78-.78 2.05 0 2.83L4 21.41c.39.39.9.59 1.41.59.51 0 1.02-.2 1.41-.59l7.78-7.78 2.81-2.81c.8-.78.8-2.07 0-2.86zM5.41 20L4 18.59l7.72-7.72 1.47 1.35L5.41 20z\"/>\n",
              "  </svg>\n",
              "      </button>\n",
              "\n",
              "\n",
              "\n",
              "    <div id=\"df-72d9dd21-111f-4df0-a555-a24e6943a4c7\">\n",
              "      <button class=\"colab-df-quickchart\" onclick=\"quickchart('df-72d9dd21-111f-4df0-a555-a24e6943a4c7')\"\n",
              "              title=\"Suggest charts.\"\n",
              "              style=\"display:none;\">\n",
              "\n",
              "<svg xmlns=\"http://www.w3.org/2000/svg\" height=\"24px\"viewBox=\"0 0 24 24\"\n",
              "     width=\"24px\">\n",
              "    <g>\n",
              "        <path d=\"M19 3H5c-1.1 0-2 .9-2 2v14c0 1.1.9 2 2 2h14c1.1 0 2-.9 2-2V5c0-1.1-.9-2-2-2zM9 17H7v-7h2v7zm4 0h-2V7h2v10zm4 0h-2v-4h2v4z\"/>\n",
              "    </g>\n",
              "</svg>\n",
              "      </button>\n",
              "    </div>\n",
              "\n",
              "<style>\n",
              "  .colab-df-quickchart {\n",
              "    background-color: #E8F0FE;\n",
              "    border: none;\n",
              "    border-radius: 50%;\n",
              "    cursor: pointer;\n",
              "    display: none;\n",
              "    fill: #1967D2;\n",
              "    height: 32px;\n",
              "    padding: 0 0 0 0;\n",
              "    width: 32px;\n",
              "  }\n",
              "\n",
              "  .colab-df-quickchart:hover {\n",
              "    background-color: #E2EBFA;\n",
              "    box-shadow: 0px 1px 2px rgba(60, 64, 67, 0.3), 0px 1px 3px 1px rgba(60, 64, 67, 0.15);\n",
              "    fill: #174EA6;\n",
              "  }\n",
              "\n",
              "  [theme=dark] .colab-df-quickchart {\n",
              "    background-color: #3B4455;\n",
              "    fill: #D2E3FC;\n",
              "  }\n",
              "\n",
              "  [theme=dark] .colab-df-quickchart:hover {\n",
              "    background-color: #434B5C;\n",
              "    box-shadow: 0px 1px 3px 1px rgba(0, 0, 0, 0.15);\n",
              "    filter: drop-shadow(0px 1px 2px rgba(0, 0, 0, 0.3));\n",
              "    fill: #FFFFFF;\n",
              "  }\n",
              "</style>\n",
              "\n",
              "    <script>\n",
              "      async function quickchart(key) {\n",
              "        const containerElement = document.querySelector('#' + key);\n",
              "        const charts = await google.colab.kernel.invokeFunction(\n",
              "            'suggestCharts', [key], {});\n",
              "      }\n",
              "    </script>\n",
              "\n",
              "      <script>\n",
              "\n",
              "function displayQuickchartButton(domScope) {\n",
              "  let quickchartButtonEl =\n",
              "    domScope.querySelector('#df-72d9dd21-111f-4df0-a555-a24e6943a4c7 button.colab-df-quickchart');\n",
              "  quickchartButtonEl.style.display =\n",
              "    google.colab.kernel.accessAllowed ? 'block' : 'none';\n",
              "}\n",
              "\n",
              "        displayQuickchartButton(document);\n",
              "      </script>\n",
              "      <style>\n",
              "    .colab-df-container {\n",
              "      display:flex;\n",
              "      flex-wrap:wrap;\n",
              "      gap: 12px;\n",
              "    }\n",
              "\n",
              "    .colab-df-convert {\n",
              "      background-color: #E8F0FE;\n",
              "      border: none;\n",
              "      border-radius: 50%;\n",
              "      cursor: pointer;\n",
              "      display: none;\n",
              "      fill: #1967D2;\n",
              "      height: 32px;\n",
              "      padding: 0 0 0 0;\n",
              "      width: 32px;\n",
              "    }\n",
              "\n",
              "    .colab-df-convert:hover {\n",
              "      background-color: #E2EBFA;\n",
              "      box-shadow: 0px 1px 2px rgba(60, 64, 67, 0.3), 0px 1px 3px 1px rgba(60, 64, 67, 0.15);\n",
              "      fill: #174EA6;\n",
              "    }\n",
              "\n",
              "    [theme=dark] .colab-df-convert {\n",
              "      background-color: #3B4455;\n",
              "      fill: #D2E3FC;\n",
              "    }\n",
              "\n",
              "    [theme=dark] .colab-df-convert:hover {\n",
              "      background-color: #434B5C;\n",
              "      box-shadow: 0px 1px 3px 1px rgba(0, 0, 0, 0.15);\n",
              "      filter: drop-shadow(0px 1px 2px rgba(0, 0, 0, 0.3));\n",
              "      fill: #FFFFFF;\n",
              "    }\n",
              "  </style>\n",
              "\n",
              "      <script>\n",
              "        const buttonEl =\n",
              "          document.querySelector('#df-795c7020-4535-4c4a-9057-177c28e544f8 button.colab-df-convert');\n",
              "        buttonEl.style.display =\n",
              "          google.colab.kernel.accessAllowed ? 'block' : 'none';\n",
              "\n",
              "        async function convertToInteractive(key) {\n",
              "          const element = document.querySelector('#df-795c7020-4535-4c4a-9057-177c28e544f8');\n",
              "          const dataTable =\n",
              "            await google.colab.kernel.invokeFunction('convertToInteractive',\n",
              "                                                     [key], {});\n",
              "          if (!dataTable) return;\n",
              "\n",
              "          const docLinkHtml = 'Like what you see? Visit the ' +\n",
              "            '<a target=\"_blank\" href=https://colab.research.google.com/notebooks/data_table.ipynb>data table notebook</a>'\n",
              "            + ' to learn more about interactive tables.';\n",
              "          element.innerHTML = '';\n",
              "          dataTable['output_type'] = 'display_data';\n",
              "          await google.colab.output.renderOutput(dataTable, element);\n",
              "          const docLink = document.createElement('div');\n",
              "          docLink.innerHTML = docLinkHtml;\n",
              "          element.appendChild(docLink);\n",
              "        }\n",
              "      </script>\n",
              "    </div>\n",
              "  </div>\n"
            ]
          },
          "metadata": {}
        }
      ],
      "source": [
        "with pd.option_context(\"display.max_columns\", None):\n",
        "    display(df_gab.head())"
      ]
    },
    {
      "cell_type": "code",
      "source": [
        "df_gab.head()"
      ],
      "metadata": {
        "colab": {
          "base_uri": "https://localhost:8080/",
          "height": 206
        },
        "id": "zhwJzkJsd8TM",
        "outputId": "5b74a9f3-5c28-4dd6-9f46-0a5ebee59ade"
      },
      "execution_count": null,
      "outputs": [
        {
          "output_type": "execute_result",
          "data": {
            "text/plain": [
              "   customerid  tot_transaksi  tot_qty  tot_amount\n",
              "0           1             17       60      623300\n",
              "1           2             13       57      392300\n",
              "2           3             15       56      446200\n",
              "3           4             10       46      302500\n",
              "4           5              7       27      268600"
            ],
            "text/html": [
              "\n",
              "\n",
              "  <div id=\"df-13527dc7-8730-4dad-aac2-bb29d49181c9\">\n",
              "    <div class=\"colab-df-container\">\n",
              "      <div>\n",
              "<style scoped>\n",
              "    .dataframe tbody tr th:only-of-type {\n",
              "        vertical-align: middle;\n",
              "    }\n",
              "\n",
              "    .dataframe tbody tr th {\n",
              "        vertical-align: top;\n",
              "    }\n",
              "\n",
              "    .dataframe thead th {\n",
              "        text-align: right;\n",
              "    }\n",
              "</style>\n",
              "<table border=\"1\" class=\"dataframe\">\n",
              "  <thead>\n",
              "    <tr style=\"text-align: right;\">\n",
              "      <th></th>\n",
              "      <th>customerid</th>\n",
              "      <th>tot_transaksi</th>\n",
              "      <th>tot_qty</th>\n",
              "      <th>tot_amount</th>\n",
              "    </tr>\n",
              "  </thead>\n",
              "  <tbody>\n",
              "    <tr>\n",
              "      <th>0</th>\n",
              "      <td>1</td>\n",
              "      <td>17</td>\n",
              "      <td>60</td>\n",
              "      <td>623300</td>\n",
              "    </tr>\n",
              "    <tr>\n",
              "      <th>1</th>\n",
              "      <td>2</td>\n",
              "      <td>13</td>\n",
              "      <td>57</td>\n",
              "      <td>392300</td>\n",
              "    </tr>\n",
              "    <tr>\n",
              "      <th>2</th>\n",
              "      <td>3</td>\n",
              "      <td>15</td>\n",
              "      <td>56</td>\n",
              "      <td>446200</td>\n",
              "    </tr>\n",
              "    <tr>\n",
              "      <th>3</th>\n",
              "      <td>4</td>\n",
              "      <td>10</td>\n",
              "      <td>46</td>\n",
              "      <td>302500</td>\n",
              "    </tr>\n",
              "    <tr>\n",
              "      <th>4</th>\n",
              "      <td>5</td>\n",
              "      <td>7</td>\n",
              "      <td>27</td>\n",
              "      <td>268600</td>\n",
              "    </tr>\n",
              "  </tbody>\n",
              "</table>\n",
              "</div>\n",
              "      <button class=\"colab-df-convert\" onclick=\"convertToInteractive('df-13527dc7-8730-4dad-aac2-bb29d49181c9')\"\n",
              "              title=\"Convert this dataframe to an interactive table.\"\n",
              "              style=\"display:none;\">\n",
              "\n",
              "  <svg xmlns=\"http://www.w3.org/2000/svg\" height=\"24px\"viewBox=\"0 0 24 24\"\n",
              "       width=\"24px\">\n",
              "    <path d=\"M0 0h24v24H0V0z\" fill=\"none\"/>\n",
              "    <path d=\"M18.56 5.44l.94 2.06.94-2.06 2.06-.94-2.06-.94-.94-2.06-.94 2.06-2.06.94zm-11 1L8.5 8.5l.94-2.06 2.06-.94-2.06-.94L8.5 2.5l-.94 2.06-2.06.94zm10 10l.94 2.06.94-2.06 2.06-.94-2.06-.94-.94-2.06-.94 2.06-2.06.94z\"/><path d=\"M17.41 7.96l-1.37-1.37c-.4-.4-.92-.59-1.43-.59-.52 0-1.04.2-1.43.59L10.3 9.45l-7.72 7.72c-.78.78-.78 2.05 0 2.83L4 21.41c.39.39.9.59 1.41.59.51 0 1.02-.2 1.41-.59l7.78-7.78 2.81-2.81c.8-.78.8-2.07 0-2.86zM5.41 20L4 18.59l7.72-7.72 1.47 1.35L5.41 20z\"/>\n",
              "  </svg>\n",
              "      </button>\n",
              "\n",
              "\n",
              "\n",
              "    <div id=\"df-8e5ee5a4-5242-4e38-8c3e-3825efa9e6f4\">\n",
              "      <button class=\"colab-df-quickchart\" onclick=\"quickchart('df-8e5ee5a4-5242-4e38-8c3e-3825efa9e6f4')\"\n",
              "              title=\"Suggest charts.\"\n",
              "              style=\"display:none;\">\n",
              "\n",
              "<svg xmlns=\"http://www.w3.org/2000/svg\" height=\"24px\"viewBox=\"0 0 24 24\"\n",
              "     width=\"24px\">\n",
              "    <g>\n",
              "        <path d=\"M19 3H5c-1.1 0-2 .9-2 2v14c0 1.1.9 2 2 2h14c1.1 0 2-.9 2-2V5c0-1.1-.9-2-2-2zM9 17H7v-7h2v7zm4 0h-2V7h2v10zm4 0h-2v-4h2v4z\"/>\n",
              "    </g>\n",
              "</svg>\n",
              "      </button>\n",
              "    </div>\n",
              "\n",
              "<style>\n",
              "  .colab-df-quickchart {\n",
              "    background-color: #E8F0FE;\n",
              "    border: none;\n",
              "    border-radius: 50%;\n",
              "    cursor: pointer;\n",
              "    display: none;\n",
              "    fill: #1967D2;\n",
              "    height: 32px;\n",
              "    padding: 0 0 0 0;\n",
              "    width: 32px;\n",
              "  }\n",
              "\n",
              "  .colab-df-quickchart:hover {\n",
              "    background-color: #E2EBFA;\n",
              "    box-shadow: 0px 1px 2px rgba(60, 64, 67, 0.3), 0px 1px 3px 1px rgba(60, 64, 67, 0.15);\n",
              "    fill: #174EA6;\n",
              "  }\n",
              "\n",
              "  [theme=dark] .colab-df-quickchart {\n",
              "    background-color: #3B4455;\n",
              "    fill: #D2E3FC;\n",
              "  }\n",
              "\n",
              "  [theme=dark] .colab-df-quickchart:hover {\n",
              "    background-color: #434B5C;\n",
              "    box-shadow: 0px 1px 3px 1px rgba(0, 0, 0, 0.15);\n",
              "    filter: drop-shadow(0px 1px 2px rgba(0, 0, 0, 0.3));\n",
              "    fill: #FFFFFF;\n",
              "  }\n",
              "</style>\n",
              "\n",
              "    <script>\n",
              "      async function quickchart(key) {\n",
              "        const containerElement = document.querySelector('#' + key);\n",
              "        const charts = await google.colab.kernel.invokeFunction(\n",
              "            'suggestCharts', [key], {});\n",
              "      }\n",
              "    </script>\n",
              "\n",
              "      <script>\n",
              "\n",
              "function displayQuickchartButton(domScope) {\n",
              "  let quickchartButtonEl =\n",
              "    domScope.querySelector('#df-8e5ee5a4-5242-4e38-8c3e-3825efa9e6f4 button.colab-df-quickchart');\n",
              "  quickchartButtonEl.style.display =\n",
              "    google.colab.kernel.accessAllowed ? 'block' : 'none';\n",
              "}\n",
              "\n",
              "        displayQuickchartButton(document);\n",
              "      </script>\n",
              "      <style>\n",
              "    .colab-df-container {\n",
              "      display:flex;\n",
              "      flex-wrap:wrap;\n",
              "      gap: 12px;\n",
              "    }\n",
              "\n",
              "    .colab-df-convert {\n",
              "      background-color: #E8F0FE;\n",
              "      border: none;\n",
              "      border-radius: 50%;\n",
              "      cursor: pointer;\n",
              "      display: none;\n",
              "      fill: #1967D2;\n",
              "      height: 32px;\n",
              "      padding: 0 0 0 0;\n",
              "      width: 32px;\n",
              "    }\n",
              "\n",
              "    .colab-df-convert:hover {\n",
              "      background-color: #E2EBFA;\n",
              "      box-shadow: 0px 1px 2px rgba(60, 64, 67, 0.3), 0px 1px 3px 1px rgba(60, 64, 67, 0.15);\n",
              "      fill: #174EA6;\n",
              "    }\n",
              "\n",
              "    [theme=dark] .colab-df-convert {\n",
              "      background-color: #3B4455;\n",
              "      fill: #D2E3FC;\n",
              "    }\n",
              "\n",
              "    [theme=dark] .colab-df-convert:hover {\n",
              "      background-color: #434B5C;\n",
              "      box-shadow: 0px 1px 3px 1px rgba(0, 0, 0, 0.15);\n",
              "      filter: drop-shadow(0px 1px 2px rgba(0, 0, 0, 0.3));\n",
              "      fill: #FFFFFF;\n",
              "    }\n",
              "  </style>\n",
              "\n",
              "      <script>\n",
              "        const buttonEl =\n",
              "          document.querySelector('#df-13527dc7-8730-4dad-aac2-bb29d49181c9 button.colab-df-convert');\n",
              "        buttonEl.style.display =\n",
              "          google.colab.kernel.accessAllowed ? 'block' : 'none';\n",
              "\n",
              "        async function convertToInteractive(key) {\n",
              "          const element = document.querySelector('#df-13527dc7-8730-4dad-aac2-bb29d49181c9');\n",
              "          const dataTable =\n",
              "            await google.colab.kernel.invokeFunction('convertToInteractive',\n",
              "                                                     [key], {});\n",
              "          if (!dataTable) return;\n",
              "\n",
              "          const docLinkHtml = 'Like what you see? Visit the ' +\n",
              "            '<a target=\"_blank\" href=https://colab.research.google.com/notebooks/data_table.ipynb>data table notebook</a>'\n",
              "            + ' to learn more about interactive tables.';\n",
              "          element.innerHTML = '';\n",
              "          dataTable['output_type'] = 'display_data';\n",
              "          await google.colab.output.renderOutput(dataTable, element);\n",
              "          const docLink = document.createElement('div');\n",
              "          docLink.innerHTML = docLinkHtml;\n",
              "          element.appendChild(docLink);\n",
              "        }\n",
              "      </script>\n",
              "    </div>\n",
              "  </div>\n"
            ]
          },
          "metadata": {},
          "execution_count": 6
        }
      ]
    },
    {
      "cell_type": "code",
      "execution_count": null,
      "metadata": {
        "colab": {
          "base_uri": "https://localhost:8080/"
        },
        "id": "HuZNaxOa_IcU",
        "outputId": "f3d0b6f6-c6af-4cdb-8832-cd23cf3df9c3"
      },
      "outputs": [
        {
          "output_type": "execute_result",
          "data": {
            "text/plain": [
              "customerid            1\n",
              "tot_transaksi        17\n",
              "tot_qty              60\n",
              "tot_amount       623300\n",
              "Name: 0, dtype: int64"
            ]
          },
          "metadata": {},
          "execution_count": 7
        }
      ],
      "source": [
        "# Pilih indeks pertama pada df_gab\n",
        "df_gab.loc[0]"
      ]
    },
    {
      "cell_type": "code",
      "execution_count": null,
      "metadata": {
        "colab": {
          "base_uri": "https://localhost:8080/",
          "height": 206
        },
        "id": "6-KsjvpP_FXV",
        "outputId": "e2dded10-d6d6-4245-8139-cfd6f9d79892"
      },
      "outputs": [
        {
          "output_type": "execute_result",
          "data": {
            "text/plain": [
              "   customerid  tot_transaksi  tot_qty  tot_amount\n",
              "0           1             17       60      623300\n",
              "1           2             13       57      392300\n",
              "2           3             15       56      446200\n",
              "3           4             10       46      302500\n",
              "4           5              7       27      268600"
            ],
            "text/html": [
              "\n",
              "\n",
              "  <div id=\"df-3122a398-f10a-441e-9dfb-f95afdf6eaec\">\n",
              "    <div class=\"colab-df-container\">\n",
              "      <div>\n",
              "<style scoped>\n",
              "    .dataframe tbody tr th:only-of-type {\n",
              "        vertical-align: middle;\n",
              "    }\n",
              "\n",
              "    .dataframe tbody tr th {\n",
              "        vertical-align: top;\n",
              "    }\n",
              "\n",
              "    .dataframe thead th {\n",
              "        text-align: right;\n",
              "    }\n",
              "</style>\n",
              "<table border=\"1\" class=\"dataframe\">\n",
              "  <thead>\n",
              "    <tr style=\"text-align: right;\">\n",
              "      <th></th>\n",
              "      <th>customerid</th>\n",
              "      <th>tot_transaksi</th>\n",
              "      <th>tot_qty</th>\n",
              "      <th>tot_amount</th>\n",
              "    </tr>\n",
              "  </thead>\n",
              "  <tbody>\n",
              "    <tr>\n",
              "      <th>0</th>\n",
              "      <td>1</td>\n",
              "      <td>17</td>\n",
              "      <td>60</td>\n",
              "      <td>623300</td>\n",
              "    </tr>\n",
              "    <tr>\n",
              "      <th>1</th>\n",
              "      <td>2</td>\n",
              "      <td>13</td>\n",
              "      <td>57</td>\n",
              "      <td>392300</td>\n",
              "    </tr>\n",
              "    <tr>\n",
              "      <th>2</th>\n",
              "      <td>3</td>\n",
              "      <td>15</td>\n",
              "      <td>56</td>\n",
              "      <td>446200</td>\n",
              "    </tr>\n",
              "    <tr>\n",
              "      <th>3</th>\n",
              "      <td>4</td>\n",
              "      <td>10</td>\n",
              "      <td>46</td>\n",
              "      <td>302500</td>\n",
              "    </tr>\n",
              "    <tr>\n",
              "      <th>4</th>\n",
              "      <td>5</td>\n",
              "      <td>7</td>\n",
              "      <td>27</td>\n",
              "      <td>268600</td>\n",
              "    </tr>\n",
              "  </tbody>\n",
              "</table>\n",
              "</div>\n",
              "      <button class=\"colab-df-convert\" onclick=\"convertToInteractive('df-3122a398-f10a-441e-9dfb-f95afdf6eaec')\"\n",
              "              title=\"Convert this dataframe to an interactive table.\"\n",
              "              style=\"display:none;\">\n",
              "\n",
              "  <svg xmlns=\"http://www.w3.org/2000/svg\" height=\"24px\"viewBox=\"0 0 24 24\"\n",
              "       width=\"24px\">\n",
              "    <path d=\"M0 0h24v24H0V0z\" fill=\"none\"/>\n",
              "    <path d=\"M18.56 5.44l.94 2.06.94-2.06 2.06-.94-2.06-.94-.94-2.06-.94 2.06-2.06.94zm-11 1L8.5 8.5l.94-2.06 2.06-.94-2.06-.94L8.5 2.5l-.94 2.06-2.06.94zm10 10l.94 2.06.94-2.06 2.06-.94-2.06-.94-.94-2.06-.94 2.06-2.06.94z\"/><path d=\"M17.41 7.96l-1.37-1.37c-.4-.4-.92-.59-1.43-.59-.52 0-1.04.2-1.43.59L10.3 9.45l-7.72 7.72c-.78.78-.78 2.05 0 2.83L4 21.41c.39.39.9.59 1.41.59.51 0 1.02-.2 1.41-.59l7.78-7.78 2.81-2.81c.8-.78.8-2.07 0-2.86zM5.41 20L4 18.59l7.72-7.72 1.47 1.35L5.41 20z\"/>\n",
              "  </svg>\n",
              "      </button>\n",
              "\n",
              "\n",
              "\n",
              "    <div id=\"df-ecc0c33b-8afd-479c-bdf2-1594fdb563ac\">\n",
              "      <button class=\"colab-df-quickchart\" onclick=\"quickchart('df-ecc0c33b-8afd-479c-bdf2-1594fdb563ac')\"\n",
              "              title=\"Suggest charts.\"\n",
              "              style=\"display:none;\">\n",
              "\n",
              "<svg xmlns=\"http://www.w3.org/2000/svg\" height=\"24px\"viewBox=\"0 0 24 24\"\n",
              "     width=\"24px\">\n",
              "    <g>\n",
              "        <path d=\"M19 3H5c-1.1 0-2 .9-2 2v14c0 1.1.9 2 2 2h14c1.1 0 2-.9 2-2V5c0-1.1-.9-2-2-2zM9 17H7v-7h2v7zm4 0h-2V7h2v10zm4 0h-2v-4h2v4z\"/>\n",
              "    </g>\n",
              "</svg>\n",
              "      </button>\n",
              "    </div>\n",
              "\n",
              "<style>\n",
              "  .colab-df-quickchart {\n",
              "    background-color: #E8F0FE;\n",
              "    border: none;\n",
              "    border-radius: 50%;\n",
              "    cursor: pointer;\n",
              "    display: none;\n",
              "    fill: #1967D2;\n",
              "    height: 32px;\n",
              "    padding: 0 0 0 0;\n",
              "    width: 32px;\n",
              "  }\n",
              "\n",
              "  .colab-df-quickchart:hover {\n",
              "    background-color: #E2EBFA;\n",
              "    box-shadow: 0px 1px 2px rgba(60, 64, 67, 0.3), 0px 1px 3px 1px rgba(60, 64, 67, 0.15);\n",
              "    fill: #174EA6;\n",
              "  }\n",
              "\n",
              "  [theme=dark] .colab-df-quickchart {\n",
              "    background-color: #3B4455;\n",
              "    fill: #D2E3FC;\n",
              "  }\n",
              "\n",
              "  [theme=dark] .colab-df-quickchart:hover {\n",
              "    background-color: #434B5C;\n",
              "    box-shadow: 0px 1px 3px 1px rgba(0, 0, 0, 0.15);\n",
              "    filter: drop-shadow(0px 1px 2px rgba(0, 0, 0, 0.3));\n",
              "    fill: #FFFFFF;\n",
              "  }\n",
              "</style>\n",
              "\n",
              "    <script>\n",
              "      async function quickchart(key) {\n",
              "        const containerElement = document.querySelector('#' + key);\n",
              "        const charts = await google.colab.kernel.invokeFunction(\n",
              "            'suggestCharts', [key], {});\n",
              "      }\n",
              "    </script>\n",
              "\n",
              "      <script>\n",
              "\n",
              "function displayQuickchartButton(domScope) {\n",
              "  let quickchartButtonEl =\n",
              "    domScope.querySelector('#df-ecc0c33b-8afd-479c-bdf2-1594fdb563ac button.colab-df-quickchart');\n",
              "  quickchartButtonEl.style.display =\n",
              "    google.colab.kernel.accessAllowed ? 'block' : 'none';\n",
              "}\n",
              "\n",
              "        displayQuickchartButton(document);\n",
              "      </script>\n",
              "      <style>\n",
              "    .colab-df-container {\n",
              "      display:flex;\n",
              "      flex-wrap:wrap;\n",
              "      gap: 12px;\n",
              "    }\n",
              "\n",
              "    .colab-df-convert {\n",
              "      background-color: #E8F0FE;\n",
              "      border: none;\n",
              "      border-radius: 50%;\n",
              "      cursor: pointer;\n",
              "      display: none;\n",
              "      fill: #1967D2;\n",
              "      height: 32px;\n",
              "      padding: 0 0 0 0;\n",
              "      width: 32px;\n",
              "    }\n",
              "\n",
              "    .colab-df-convert:hover {\n",
              "      background-color: #E2EBFA;\n",
              "      box-shadow: 0px 1px 2px rgba(60, 64, 67, 0.3), 0px 1px 3px 1px rgba(60, 64, 67, 0.15);\n",
              "      fill: #174EA6;\n",
              "    }\n",
              "\n",
              "    [theme=dark] .colab-df-convert {\n",
              "      background-color: #3B4455;\n",
              "      fill: #D2E3FC;\n",
              "    }\n",
              "\n",
              "    [theme=dark] .colab-df-convert:hover {\n",
              "      background-color: #434B5C;\n",
              "      box-shadow: 0px 1px 3px 1px rgba(0, 0, 0, 0.15);\n",
              "      filter: drop-shadow(0px 1px 2px rgba(0, 0, 0, 0.3));\n",
              "      fill: #FFFFFF;\n",
              "    }\n",
              "  </style>\n",
              "\n",
              "      <script>\n",
              "        const buttonEl =\n",
              "          document.querySelector('#df-3122a398-f10a-441e-9dfb-f95afdf6eaec button.colab-df-convert');\n",
              "        buttonEl.style.display =\n",
              "          google.colab.kernel.accessAllowed ? 'block' : 'none';\n",
              "\n",
              "        async function convertToInteractive(key) {\n",
              "          const element = document.querySelector('#df-3122a398-f10a-441e-9dfb-f95afdf6eaec');\n",
              "          const dataTable =\n",
              "            await google.colab.kernel.invokeFunction('convertToInteractive',\n",
              "                                                     [key], {});\n",
              "          if (!dataTable) return;\n",
              "\n",
              "          const docLinkHtml = 'Like what you see? Visit the ' +\n",
              "            '<a target=\"_blank\" href=https://colab.research.google.com/notebooks/data_table.ipynb>data table notebook</a>'\n",
              "            + ' to learn more about interactive tables.';\n",
              "          element.innerHTML = '';\n",
              "          dataTable['output_type'] = 'display_data';\n",
              "          await google.colab.output.renderOutput(dataTable, element);\n",
              "          const docLink = document.createElement('div');\n",
              "          docLink.innerHTML = docLinkHtml;\n",
              "          element.appendChild(docLink);\n",
              "        }\n",
              "      </script>\n",
              "    </div>\n",
              "  </div>\n"
            ]
          },
          "metadata": {},
          "execution_count": 9
        }
      ],
      "source": [
        "df_gab.head()"
      ]
    },
    {
      "cell_type": "code",
      "execution_count": null,
      "metadata": {
        "colab": {
          "base_uri": "https://localhost:8080/",
          "height": 206
        },
        "id": "tP_m9eg4__zF",
        "outputId": "d45d8601-3b7d-452e-8899-f5e860bd89f5"
      },
      "outputs": [
        {
          "output_type": "execute_result",
          "data": {
            "text/plain": [
              "     customerid  tot_transaksi  tot_qty  tot_amount\n",
              "442         443             16       59      485100\n",
              "443         444             18       62      577700\n",
              "444         445             18       68      587200\n",
              "445         446             11       42      423300\n",
              "446         447             13       42      439300"
            ],
            "text/html": [
              "\n",
              "\n",
              "  <div id=\"df-c0f0e359-b507-49ce-b456-fea48f265edf\">\n",
              "    <div class=\"colab-df-container\">\n",
              "      <div>\n",
              "<style scoped>\n",
              "    .dataframe tbody tr th:only-of-type {\n",
              "        vertical-align: middle;\n",
              "    }\n",
              "\n",
              "    .dataframe tbody tr th {\n",
              "        vertical-align: top;\n",
              "    }\n",
              "\n",
              "    .dataframe thead th {\n",
              "        text-align: right;\n",
              "    }\n",
              "</style>\n",
              "<table border=\"1\" class=\"dataframe\">\n",
              "  <thead>\n",
              "    <tr style=\"text-align: right;\">\n",
              "      <th></th>\n",
              "      <th>customerid</th>\n",
              "      <th>tot_transaksi</th>\n",
              "      <th>tot_qty</th>\n",
              "      <th>tot_amount</th>\n",
              "    </tr>\n",
              "  </thead>\n",
              "  <tbody>\n",
              "    <tr>\n",
              "      <th>442</th>\n",
              "      <td>443</td>\n",
              "      <td>16</td>\n",
              "      <td>59</td>\n",
              "      <td>485100</td>\n",
              "    </tr>\n",
              "    <tr>\n",
              "      <th>443</th>\n",
              "      <td>444</td>\n",
              "      <td>18</td>\n",
              "      <td>62</td>\n",
              "      <td>577700</td>\n",
              "    </tr>\n",
              "    <tr>\n",
              "      <th>444</th>\n",
              "      <td>445</td>\n",
              "      <td>18</td>\n",
              "      <td>68</td>\n",
              "      <td>587200</td>\n",
              "    </tr>\n",
              "    <tr>\n",
              "      <th>445</th>\n",
              "      <td>446</td>\n",
              "      <td>11</td>\n",
              "      <td>42</td>\n",
              "      <td>423300</td>\n",
              "    </tr>\n",
              "    <tr>\n",
              "      <th>446</th>\n",
              "      <td>447</td>\n",
              "      <td>13</td>\n",
              "      <td>42</td>\n",
              "      <td>439300</td>\n",
              "    </tr>\n",
              "  </tbody>\n",
              "</table>\n",
              "</div>\n",
              "      <button class=\"colab-df-convert\" onclick=\"convertToInteractive('df-c0f0e359-b507-49ce-b456-fea48f265edf')\"\n",
              "              title=\"Convert this dataframe to an interactive table.\"\n",
              "              style=\"display:none;\">\n",
              "\n",
              "  <svg xmlns=\"http://www.w3.org/2000/svg\" height=\"24px\"viewBox=\"0 0 24 24\"\n",
              "       width=\"24px\">\n",
              "    <path d=\"M0 0h24v24H0V0z\" fill=\"none\"/>\n",
              "    <path d=\"M18.56 5.44l.94 2.06.94-2.06 2.06-.94-2.06-.94-.94-2.06-.94 2.06-2.06.94zm-11 1L8.5 8.5l.94-2.06 2.06-.94-2.06-.94L8.5 2.5l-.94 2.06-2.06.94zm10 10l.94 2.06.94-2.06 2.06-.94-2.06-.94-.94-2.06-.94 2.06-2.06.94z\"/><path d=\"M17.41 7.96l-1.37-1.37c-.4-.4-.92-.59-1.43-.59-.52 0-1.04.2-1.43.59L10.3 9.45l-7.72 7.72c-.78.78-.78 2.05 0 2.83L4 21.41c.39.39.9.59 1.41.59.51 0 1.02-.2 1.41-.59l7.78-7.78 2.81-2.81c.8-.78.8-2.07 0-2.86zM5.41 20L4 18.59l7.72-7.72 1.47 1.35L5.41 20z\"/>\n",
              "  </svg>\n",
              "      </button>\n",
              "\n",
              "\n",
              "\n",
              "    <div id=\"df-b9415a1c-cd08-46eb-abc3-c6d5597097e0\">\n",
              "      <button class=\"colab-df-quickchart\" onclick=\"quickchart('df-b9415a1c-cd08-46eb-abc3-c6d5597097e0')\"\n",
              "              title=\"Suggest charts.\"\n",
              "              style=\"display:none;\">\n",
              "\n",
              "<svg xmlns=\"http://www.w3.org/2000/svg\" height=\"24px\"viewBox=\"0 0 24 24\"\n",
              "     width=\"24px\">\n",
              "    <g>\n",
              "        <path d=\"M19 3H5c-1.1 0-2 .9-2 2v14c0 1.1.9 2 2 2h14c1.1 0 2-.9 2-2V5c0-1.1-.9-2-2-2zM9 17H7v-7h2v7zm4 0h-2V7h2v10zm4 0h-2v-4h2v4z\"/>\n",
              "    </g>\n",
              "</svg>\n",
              "      </button>\n",
              "    </div>\n",
              "\n",
              "<style>\n",
              "  .colab-df-quickchart {\n",
              "    background-color: #E8F0FE;\n",
              "    border: none;\n",
              "    border-radius: 50%;\n",
              "    cursor: pointer;\n",
              "    display: none;\n",
              "    fill: #1967D2;\n",
              "    height: 32px;\n",
              "    padding: 0 0 0 0;\n",
              "    width: 32px;\n",
              "  }\n",
              "\n",
              "  .colab-df-quickchart:hover {\n",
              "    background-color: #E2EBFA;\n",
              "    box-shadow: 0px 1px 2px rgba(60, 64, 67, 0.3), 0px 1px 3px 1px rgba(60, 64, 67, 0.15);\n",
              "    fill: #174EA6;\n",
              "  }\n",
              "\n",
              "  [theme=dark] .colab-df-quickchart {\n",
              "    background-color: #3B4455;\n",
              "    fill: #D2E3FC;\n",
              "  }\n",
              "\n",
              "  [theme=dark] .colab-df-quickchart:hover {\n",
              "    background-color: #434B5C;\n",
              "    box-shadow: 0px 1px 3px 1px rgba(0, 0, 0, 0.15);\n",
              "    filter: drop-shadow(0px 1px 2px rgba(0, 0, 0, 0.3));\n",
              "    fill: #FFFFFF;\n",
              "  }\n",
              "</style>\n",
              "\n",
              "    <script>\n",
              "      async function quickchart(key) {\n",
              "        const containerElement = document.querySelector('#' + key);\n",
              "        const charts = await google.colab.kernel.invokeFunction(\n",
              "            'suggestCharts', [key], {});\n",
              "      }\n",
              "    </script>\n",
              "\n",
              "      <script>\n",
              "\n",
              "function displayQuickchartButton(domScope) {\n",
              "  let quickchartButtonEl =\n",
              "    domScope.querySelector('#df-b9415a1c-cd08-46eb-abc3-c6d5597097e0 button.colab-df-quickchart');\n",
              "  quickchartButtonEl.style.display =\n",
              "    google.colab.kernel.accessAllowed ? 'block' : 'none';\n",
              "}\n",
              "\n",
              "        displayQuickchartButton(document);\n",
              "      </script>\n",
              "      <style>\n",
              "    .colab-df-container {\n",
              "      display:flex;\n",
              "      flex-wrap:wrap;\n",
              "      gap: 12px;\n",
              "    }\n",
              "\n",
              "    .colab-df-convert {\n",
              "      background-color: #E8F0FE;\n",
              "      border: none;\n",
              "      border-radius: 50%;\n",
              "      cursor: pointer;\n",
              "      display: none;\n",
              "      fill: #1967D2;\n",
              "      height: 32px;\n",
              "      padding: 0 0 0 0;\n",
              "      width: 32px;\n",
              "    }\n",
              "\n",
              "    .colab-df-convert:hover {\n",
              "      background-color: #E2EBFA;\n",
              "      box-shadow: 0px 1px 2px rgba(60, 64, 67, 0.3), 0px 1px 3px 1px rgba(60, 64, 67, 0.15);\n",
              "      fill: #174EA6;\n",
              "    }\n",
              "\n",
              "    [theme=dark] .colab-df-convert {\n",
              "      background-color: #3B4455;\n",
              "      fill: #D2E3FC;\n",
              "    }\n",
              "\n",
              "    [theme=dark] .colab-df-convert:hover {\n",
              "      background-color: #434B5C;\n",
              "      box-shadow: 0px 1px 3px 1px rgba(0, 0, 0, 0.15);\n",
              "      filter: drop-shadow(0px 1px 2px rgba(0, 0, 0, 0.3));\n",
              "      fill: #FFFFFF;\n",
              "    }\n",
              "  </style>\n",
              "\n",
              "      <script>\n",
              "        const buttonEl =\n",
              "          document.querySelector('#df-c0f0e359-b507-49ce-b456-fea48f265edf button.colab-df-convert');\n",
              "        buttonEl.style.display =\n",
              "          google.colab.kernel.accessAllowed ? 'block' : 'none';\n",
              "\n",
              "        async function convertToInteractive(key) {\n",
              "          const element = document.querySelector('#df-c0f0e359-b507-49ce-b456-fea48f265edf');\n",
              "          const dataTable =\n",
              "            await google.colab.kernel.invokeFunction('convertToInteractive',\n",
              "                                                     [key], {});\n",
              "          if (!dataTable) return;\n",
              "\n",
              "          const docLinkHtml = 'Like what you see? Visit the ' +\n",
              "            '<a target=\"_blank\" href=https://colab.research.google.com/notebooks/data_table.ipynb>data table notebook</a>'\n",
              "            + ' to learn more about interactive tables.';\n",
              "          element.innerHTML = '';\n",
              "          dataTable['output_type'] = 'display_data';\n",
              "          await google.colab.output.renderOutput(dataTable, element);\n",
              "          const docLink = document.createElement('div');\n",
              "          docLink.innerHTML = docLinkHtml;\n",
              "          element.appendChild(docLink);\n",
              "        }\n",
              "      </script>\n",
              "    </div>\n",
              "  </div>\n"
            ]
          },
          "metadata": {},
          "execution_count": 10
        }
      ],
      "source": [
        "df_gab.tail()"
      ]
    },
    {
      "cell_type": "code",
      "execution_count": null,
      "metadata": {
        "colab": {
          "base_uri": "https://localhost:8080/"
        },
        "id": "k-9sVGWbPIiu",
        "outputId": "bb53bb7b-6368-4c56-98d4-f61ddd96d419"
      },
      "outputs": [
        {
          "output_type": "stream",
          "name": "stdout",
          "text": [
            "<class 'pandas.core.frame.DataFrame'>\n",
            "RangeIndex: 447 entries, 0 to 446\n",
            "Data columns (total 4 columns):\n",
            " #   Column         Non-Null Count  Dtype\n",
            "---  ------         --------------  -----\n",
            " 0   customerid     447 non-null    int64\n",
            " 1   tot_transaksi  447 non-null    int64\n",
            " 2   tot_qty        447 non-null    int64\n",
            " 3   tot_amount     447 non-null    int64\n",
            "dtypes: int64(4)\n",
            "memory usage: 14.1 KB\n"
          ]
        }
      ],
      "source": [
        "# Cek missing vallue\n",
        "df_gab.info()"
      ]
    },
    {
      "cell_type": "code",
      "execution_count": null,
      "metadata": {
        "colab": {
          "base_uri": "https://localhost:8080/"
        },
        "id": "OkQStlwBD5jL",
        "outputId": "12eb9d6e-0718-4308-8c45-a615117948ce"
      },
      "outputs": [
        {
          "output_type": "execute_result",
          "data": {
            "text/plain": [
              "customerid       0\n",
              "tot_transaksi    0\n",
              "tot_qty          0\n",
              "tot_amount       0\n",
              "dtype: int64"
            ]
          },
          "metadata": {},
          "execution_count": 12
        }
      ],
      "source": [
        "df_gab.isna().sum()"
      ]
    },
    {
      "cell_type": "markdown",
      "metadata": {
        "id": "5-RYNLugJ2i2"
      },
      "source": [
        "> **Insights Data Gabungan:**\n",
        "\n",
        "* Pada data gabungan, sudah dipastikan data tidak ada missing vallues/null vallues\n",
        "* Terdapat kurang lebih 450 total customer yang unik\n",
        "* Setiap customer memiliki total keseluruhan transaksi\n",
        "* Setiap customer juga memiliki jumlah kuantitas dan total ammount yang dikeluarkan dari total transaksi\n",
        "* Terdapat 5 fitur yang mempresentasikan data gabungan yaitu, customerid, total transaksi, total kuantitas, dan total pengeluaran"
      ]
    },
    {
      "cell_type": "markdown",
      "metadata": {
        "id": "wUj9kWeRIvwk"
      },
      "source": [
        "## **2 Exploratory Data Analysis**"
      ]
    },
    {
      "cell_type": "markdown",
      "metadata": {
        "id": "-7VqB6JQ_O5M"
      },
      "source": [
        "> Jika diperhatikan ,fitur yang berisi kode atau identifier customer dianggap sebagai integer, sedangkan secara konteks adalah bukan integer. Oleh karena itu, perlu mengubah fitur `customerid` tersebut menjadi tipe data `object`."
      ]
    },
    {
      "cell_type": "code",
      "execution_count": null,
      "metadata": {
        "colab": {
          "base_uri": "https://localhost:8080/"
        },
        "id": "XrHy780f4MM5",
        "outputId": "5bdeaaef-0829-4ec7-f02d-2ab201c90139"
      },
      "outputs": [
        {
          "output_type": "execute_result",
          "data": {
            "text/plain": [
              "customerid       int64\n",
              "tot_transaksi    int64\n",
              "tot_qty          int64\n",
              "tot_amount       int64\n",
              "dtype: object"
            ]
          },
          "metadata": {},
          "execution_count": 13
        }
      ],
      "source": [
        "df_gab.dtypes"
      ]
    },
    {
      "cell_type": "markdown",
      "metadata": {
        "id": "CmHrT9huHMif"
      },
      "source": [
        "* Fitur `customerid` bertipe data integer. Fitur tersebut seharusnya bertipe data kategorik karena tidak mencerminkan deret angka. Oleh karena itu, harus diubah tipe data fitur tersebut menjadi object."
      ]
    },
    {
      "cell_type": "code",
      "execution_count": null,
      "metadata": {
        "id": "msH5KW5o39u_"
      },
      "outputs": [],
      "source": [
        "# Instruksi looping untuk mengubah tipe data pada kolom yang berakhiran dengan 'id' menggunakan function astype()\n",
        "for feature in df_gab.columns:\n",
        "    if (\n",
        "        feature.endswith(\"id\")\n",
        "    ):\n",
        "        df_gab[feature] = df_gab[feature].astype(\"object\")"
      ]
    },
    {
      "cell_type": "code",
      "execution_count": null,
      "metadata": {
        "colab": {
          "base_uri": "https://localhost:8080/"
        },
        "id": "LbR3UYg8_Bcb",
        "outputId": "cd3d16d4-a033-43ad-e76f-0f8bd3bf3fde"
      },
      "outputs": [
        {
          "output_type": "stream",
          "name": "stdout",
          "text": [
            "<class 'pandas.core.frame.DataFrame'>\n",
            "RangeIndex: 447 entries, 0 to 446\n",
            "Data columns (total 4 columns):\n",
            " #   Column         Non-Null Count  Dtype \n",
            "---  ------         --------------  ----- \n",
            " 0   customerid     447 non-null    object\n",
            " 1   tot_transaksi  447 non-null    int64 \n",
            " 2   tot_qty        447 non-null    int64 \n",
            " 3   tot_amount     447 non-null    int64 \n",
            "dtypes: int64(3), object(1)\n",
            "memory usage: 14.1+ KB\n"
          ]
        }
      ],
      "source": [
        "df_gab.info()"
      ]
    },
    {
      "cell_type": "markdown",
      "metadata": {
        "id": "OsBfoqU4_DE7"
      },
      "source": [
        "* Customerid berhasil diubah menjadi object"
      ]
    },
    {
      "cell_type": "code",
      "execution_count": null,
      "metadata": {
        "colab": {
          "base_uri": "https://localhost:8080/"
        },
        "id": "wyBpNfcxzMqX",
        "outputId": "79787cb2-b799-4c23-8776-5882dc2fb8a9"
      },
      "outputs": [
        {
          "output_type": "stream",
          "name": "stdout",
          "text": [
            "- num of unique values in `customerid`: 447\n",
            "- num of unique values in `tot_transaksi`: 19\n",
            "- num of unique values in `tot_qty`: 59\n",
            "- num of unique values in `tot_amount`: 420\n"
          ]
        }
      ],
      "source": [
        "for feature in df_gab.columns:\n",
        "    print(\n",
        "        f\"- num of unique values in `{feature}`:\",\n",
        "        df_gab[feature].nunique()\n",
        "    )"
      ]
    },
    {
      "cell_type": "markdown",
      "metadata": {
        "id": "QqZsiIPOZqZu"
      },
      "source": [
        "Kita akan coba lihat apakah ada pola khusus untuk  _missing values_ pada masing-masing fitur"
      ]
    },
    {
      "cell_type": "code",
      "execution_count": null,
      "metadata": {
        "colab": {
          "base_uri": "https://localhost:8080/",
          "height": 49
        },
        "id": "_lQFv9bIPqIb",
        "outputId": "e20b4525-4387-4f37-b00e-831ef171b355"
      },
      "outputs": [
        {
          "output_type": "execute_result",
          "data": {
            "text/plain": [
              "Empty DataFrame\n",
              "Columns: [customerid, tot_transaksi, tot_qty, tot_amount]\n",
              "Index: []"
            ],
            "text/html": [
              "\n",
              "\n",
              "  <div id=\"df-34cb2347-dcfb-4e62-a265-5deecdab5697\">\n",
              "    <div class=\"colab-df-container\">\n",
              "      <div>\n",
              "<style scoped>\n",
              "    .dataframe tbody tr th:only-of-type {\n",
              "        vertical-align: middle;\n",
              "    }\n",
              "\n",
              "    .dataframe tbody tr th {\n",
              "        vertical-align: top;\n",
              "    }\n",
              "\n",
              "    .dataframe thead th {\n",
              "        text-align: right;\n",
              "    }\n",
              "</style>\n",
              "<table border=\"1\" class=\"dataframe\">\n",
              "  <thead>\n",
              "    <tr style=\"text-align: right;\">\n",
              "      <th></th>\n",
              "      <th>customerid</th>\n",
              "      <th>tot_transaksi</th>\n",
              "      <th>tot_qty</th>\n",
              "      <th>tot_amount</th>\n",
              "    </tr>\n",
              "  </thead>\n",
              "  <tbody>\n",
              "  </tbody>\n",
              "</table>\n",
              "</div>\n",
              "      <button class=\"colab-df-convert\" onclick=\"convertToInteractive('df-34cb2347-dcfb-4e62-a265-5deecdab5697')\"\n",
              "              title=\"Convert this dataframe to an interactive table.\"\n",
              "              style=\"display:none;\">\n",
              "\n",
              "  <svg xmlns=\"http://www.w3.org/2000/svg\" height=\"24px\"viewBox=\"0 0 24 24\"\n",
              "       width=\"24px\">\n",
              "    <path d=\"M0 0h24v24H0V0z\" fill=\"none\"/>\n",
              "    <path d=\"M18.56 5.44l.94 2.06.94-2.06 2.06-.94-2.06-.94-.94-2.06-.94 2.06-2.06.94zm-11 1L8.5 8.5l.94-2.06 2.06-.94-2.06-.94L8.5 2.5l-.94 2.06-2.06.94zm10 10l.94 2.06.94-2.06 2.06-.94-2.06-.94-.94-2.06-.94 2.06-2.06.94z\"/><path d=\"M17.41 7.96l-1.37-1.37c-.4-.4-.92-.59-1.43-.59-.52 0-1.04.2-1.43.59L10.3 9.45l-7.72 7.72c-.78.78-.78 2.05 0 2.83L4 21.41c.39.39.9.59 1.41.59.51 0 1.02-.2 1.41-.59l7.78-7.78 2.81-2.81c.8-.78.8-2.07 0-2.86zM5.41 20L4 18.59l7.72-7.72 1.47 1.35L5.41 20z\"/>\n",
              "  </svg>\n",
              "      </button>\n",
              "\n",
              "\n",
              "\n",
              "    <div id=\"df-a4d56105-d1e5-4fcd-9a5c-0fa1eb7b2a5b\">\n",
              "      <button class=\"colab-df-quickchart\" onclick=\"quickchart('df-a4d56105-d1e5-4fcd-9a5c-0fa1eb7b2a5b')\"\n",
              "              title=\"Suggest charts.\"\n",
              "              style=\"display:none;\">\n",
              "\n",
              "<svg xmlns=\"http://www.w3.org/2000/svg\" height=\"24px\"viewBox=\"0 0 24 24\"\n",
              "     width=\"24px\">\n",
              "    <g>\n",
              "        <path d=\"M19 3H5c-1.1 0-2 .9-2 2v14c0 1.1.9 2 2 2h14c1.1 0 2-.9 2-2V5c0-1.1-.9-2-2-2zM9 17H7v-7h2v7zm4 0h-2V7h2v10zm4 0h-2v-4h2v4z\"/>\n",
              "    </g>\n",
              "</svg>\n",
              "      </button>\n",
              "    </div>\n",
              "\n",
              "<style>\n",
              "  .colab-df-quickchart {\n",
              "    background-color: #E8F0FE;\n",
              "    border: none;\n",
              "    border-radius: 50%;\n",
              "    cursor: pointer;\n",
              "    display: none;\n",
              "    fill: #1967D2;\n",
              "    height: 32px;\n",
              "    padding: 0 0 0 0;\n",
              "    width: 32px;\n",
              "  }\n",
              "\n",
              "  .colab-df-quickchart:hover {\n",
              "    background-color: #E2EBFA;\n",
              "    box-shadow: 0px 1px 2px rgba(60, 64, 67, 0.3), 0px 1px 3px 1px rgba(60, 64, 67, 0.15);\n",
              "    fill: #174EA6;\n",
              "  }\n",
              "\n",
              "  [theme=dark] .colab-df-quickchart {\n",
              "    background-color: #3B4455;\n",
              "    fill: #D2E3FC;\n",
              "  }\n",
              "\n",
              "  [theme=dark] .colab-df-quickchart:hover {\n",
              "    background-color: #434B5C;\n",
              "    box-shadow: 0px 1px 3px 1px rgba(0, 0, 0, 0.15);\n",
              "    filter: drop-shadow(0px 1px 2px rgba(0, 0, 0, 0.3));\n",
              "    fill: #FFFFFF;\n",
              "  }\n",
              "</style>\n",
              "\n",
              "    <script>\n",
              "      async function quickchart(key) {\n",
              "        const containerElement = document.querySelector('#' + key);\n",
              "        const charts = await google.colab.kernel.invokeFunction(\n",
              "            'suggestCharts', [key], {});\n",
              "      }\n",
              "    </script>\n",
              "\n",
              "      <script>\n",
              "\n",
              "function displayQuickchartButton(domScope) {\n",
              "  let quickchartButtonEl =\n",
              "    domScope.querySelector('#df-a4d56105-d1e5-4fcd-9a5c-0fa1eb7b2a5b button.colab-df-quickchart');\n",
              "  quickchartButtonEl.style.display =\n",
              "    google.colab.kernel.accessAllowed ? 'block' : 'none';\n",
              "}\n",
              "\n",
              "        displayQuickchartButton(document);\n",
              "      </script>\n",
              "      <style>\n",
              "    .colab-df-container {\n",
              "      display:flex;\n",
              "      flex-wrap:wrap;\n",
              "      gap: 12px;\n",
              "    }\n",
              "\n",
              "    .colab-df-convert {\n",
              "      background-color: #E8F0FE;\n",
              "      border: none;\n",
              "      border-radius: 50%;\n",
              "      cursor: pointer;\n",
              "      display: none;\n",
              "      fill: #1967D2;\n",
              "      height: 32px;\n",
              "      padding: 0 0 0 0;\n",
              "      width: 32px;\n",
              "    }\n",
              "\n",
              "    .colab-df-convert:hover {\n",
              "      background-color: #E2EBFA;\n",
              "      box-shadow: 0px 1px 2px rgba(60, 64, 67, 0.3), 0px 1px 3px 1px rgba(60, 64, 67, 0.15);\n",
              "      fill: #174EA6;\n",
              "    }\n",
              "\n",
              "    [theme=dark] .colab-df-convert {\n",
              "      background-color: #3B4455;\n",
              "      fill: #D2E3FC;\n",
              "    }\n",
              "\n",
              "    [theme=dark] .colab-df-convert:hover {\n",
              "      background-color: #434B5C;\n",
              "      box-shadow: 0px 1px 3px 1px rgba(0, 0, 0, 0.15);\n",
              "      filter: drop-shadow(0px 1px 2px rgba(0, 0, 0, 0.3));\n",
              "      fill: #FFFFFF;\n",
              "    }\n",
              "  </style>\n",
              "\n",
              "      <script>\n",
              "        const buttonEl =\n",
              "          document.querySelector('#df-34cb2347-dcfb-4e62-a265-5deecdab5697 button.colab-df-convert');\n",
              "        buttonEl.style.display =\n",
              "          google.colab.kernel.accessAllowed ? 'block' : 'none';\n",
              "\n",
              "        async function convertToInteractive(key) {\n",
              "          const element = document.querySelector('#df-34cb2347-dcfb-4e62-a265-5deecdab5697');\n",
              "          const dataTable =\n",
              "            await google.colab.kernel.invokeFunction('convertToInteractive',\n",
              "                                                     [key], {});\n",
              "          if (!dataTable) return;\n",
              "\n",
              "          const docLinkHtml = 'Like what you see? Visit the ' +\n",
              "            '<a target=\"_blank\" href=https://colab.research.google.com/notebooks/data_table.ipynb>data table notebook</a>'\n",
              "            + ' to learn more about interactive tables.';\n",
              "          element.innerHTML = '';\n",
              "          dataTable['output_type'] = 'display_data';\n",
              "          await google.colab.output.renderOutput(dataTable, element);\n",
              "          const docLink = document.createElement('div');\n",
              "          docLink.innerHTML = docLinkHtml;\n",
              "          element.appendChild(docLink);\n",
              "        }\n",
              "      </script>\n",
              "    </div>\n",
              "  </div>\n"
            ]
          },
          "metadata": {},
          "execution_count": 23
        }
      ],
      "source": [
        "df_gab[df_gab.isna().all(axis=1)]"
      ]
    },
    {
      "cell_type": "code",
      "execution_count": null,
      "metadata": {
        "id": "dJnZ1B-aReRG"
      },
      "outputs": [],
      "source": [
        "for feature in df_gab.columns:\n",
        "    # hanya pilih fitur yang memiliki missing values dan tampilkan nilai missing values dan hitung jumlahnya dengan unique()\n",
        "    if df_gab[feature].isna().any():\n",
        "        print(f\"num of unique values in {feature}: \",\n",
        "            df_gab[feature].unique())"
      ]
    },
    {
      "cell_type": "code",
      "execution_count": null,
      "metadata": {
        "colab": {
          "base_uri": "https://localhost:8080/"
        },
        "id": "KDVdRnW6tFx4",
        "outputId": "6a265bf4-fb43-4160-9ee0-50f8b014f751"
      },
      "outputs": [
        {
          "output_type": "stream",
          "name": "stdout",
          "text": [
            "<class 'pandas.core.frame.DataFrame'>\n",
            "RangeIndex: 447 entries, 0 to 446\n",
            "Data columns (total 4 columns):\n",
            " #   Column         Non-Null Count  Dtype \n",
            "---  ------         --------------  ----- \n",
            " 0   customerid     447 non-null    object\n",
            " 1   tot_transaksi  447 non-null    int64 \n",
            " 2   tot_qty        447 non-null    int64 \n",
            " 3   tot_amount     447 non-null    int64 \n",
            "dtypes: int64(3), object(1)\n",
            "memory usage: 14.1+ KB\n"
          ]
        }
      ],
      "source": [
        "df_gab.info()"
      ]
    },
    {
      "cell_type": "code",
      "execution_count": null,
      "metadata": {
        "colab": {
          "base_uri": "https://localhost:8080/"
        },
        "id": "Ichja0W2dhWM",
        "outputId": "5427f3e8-6314-4081-efd3-b89c425311b8"
      },
      "outputs": [
        {
          "output_type": "execute_result",
          "data": {
            "text/plain": [
              "customerid       0\n",
              "tot_transaksi    0\n",
              "tot_qty          0\n",
              "tot_amount       0\n",
              "dtype: int64"
            ]
          },
          "metadata": {},
          "execution_count": 27
        }
      ],
      "source": [
        "df_gab.isna().sum()"
      ]
    },
    {
      "cell_type": "code",
      "execution_count": null,
      "metadata": {
        "colab": {
          "base_uri": "https://localhost:8080/",
          "height": 206
        },
        "id": "X1h9U6BarNZk",
        "outputId": "cdc72e30-a13b-4720-8a70-a650afb2368c"
      },
      "outputs": [
        {
          "output_type": "execute_result",
          "data": {
            "text/plain": [
              "  customerid  tot_transaksi  tot_qty  tot_amount\n",
              "0          1             17       60      623300\n",
              "1          2             13       57      392300\n",
              "2          3             15       56      446200\n",
              "3          4             10       46      302500\n",
              "4          5              7       27      268600"
            ],
            "text/html": [
              "\n",
              "\n",
              "  <div id=\"df-68e2452d-8d61-4daa-9ba6-cb1a7bbd9e87\">\n",
              "    <div class=\"colab-df-container\">\n",
              "      <div>\n",
              "<style scoped>\n",
              "    .dataframe tbody tr th:only-of-type {\n",
              "        vertical-align: middle;\n",
              "    }\n",
              "\n",
              "    .dataframe tbody tr th {\n",
              "        vertical-align: top;\n",
              "    }\n",
              "\n",
              "    .dataframe thead th {\n",
              "        text-align: right;\n",
              "    }\n",
              "</style>\n",
              "<table border=\"1\" class=\"dataframe\">\n",
              "  <thead>\n",
              "    <tr style=\"text-align: right;\">\n",
              "      <th></th>\n",
              "      <th>customerid</th>\n",
              "      <th>tot_transaksi</th>\n",
              "      <th>tot_qty</th>\n",
              "      <th>tot_amount</th>\n",
              "    </tr>\n",
              "  </thead>\n",
              "  <tbody>\n",
              "    <tr>\n",
              "      <th>0</th>\n",
              "      <td>1</td>\n",
              "      <td>17</td>\n",
              "      <td>60</td>\n",
              "      <td>623300</td>\n",
              "    </tr>\n",
              "    <tr>\n",
              "      <th>1</th>\n",
              "      <td>2</td>\n",
              "      <td>13</td>\n",
              "      <td>57</td>\n",
              "      <td>392300</td>\n",
              "    </tr>\n",
              "    <tr>\n",
              "      <th>2</th>\n",
              "      <td>3</td>\n",
              "      <td>15</td>\n",
              "      <td>56</td>\n",
              "      <td>446200</td>\n",
              "    </tr>\n",
              "    <tr>\n",
              "      <th>3</th>\n",
              "      <td>4</td>\n",
              "      <td>10</td>\n",
              "      <td>46</td>\n",
              "      <td>302500</td>\n",
              "    </tr>\n",
              "    <tr>\n",
              "      <th>4</th>\n",
              "      <td>5</td>\n",
              "      <td>7</td>\n",
              "      <td>27</td>\n",
              "      <td>268600</td>\n",
              "    </tr>\n",
              "  </tbody>\n",
              "</table>\n",
              "</div>\n",
              "      <button class=\"colab-df-convert\" onclick=\"convertToInteractive('df-68e2452d-8d61-4daa-9ba6-cb1a7bbd9e87')\"\n",
              "              title=\"Convert this dataframe to an interactive table.\"\n",
              "              style=\"display:none;\">\n",
              "\n",
              "  <svg xmlns=\"http://www.w3.org/2000/svg\" height=\"24px\"viewBox=\"0 0 24 24\"\n",
              "       width=\"24px\">\n",
              "    <path d=\"M0 0h24v24H0V0z\" fill=\"none\"/>\n",
              "    <path d=\"M18.56 5.44l.94 2.06.94-2.06 2.06-.94-2.06-.94-.94-2.06-.94 2.06-2.06.94zm-11 1L8.5 8.5l.94-2.06 2.06-.94-2.06-.94L8.5 2.5l-.94 2.06-2.06.94zm10 10l.94 2.06.94-2.06 2.06-.94-2.06-.94-.94-2.06-.94 2.06-2.06.94z\"/><path d=\"M17.41 7.96l-1.37-1.37c-.4-.4-.92-.59-1.43-.59-.52 0-1.04.2-1.43.59L10.3 9.45l-7.72 7.72c-.78.78-.78 2.05 0 2.83L4 21.41c.39.39.9.59 1.41.59.51 0 1.02-.2 1.41-.59l7.78-7.78 2.81-2.81c.8-.78.8-2.07 0-2.86zM5.41 20L4 18.59l7.72-7.72 1.47 1.35L5.41 20z\"/>\n",
              "  </svg>\n",
              "      </button>\n",
              "\n",
              "\n",
              "\n",
              "    <div id=\"df-a36a5f7d-8b8b-436c-90f0-3d1ae8c919cf\">\n",
              "      <button class=\"colab-df-quickchart\" onclick=\"quickchart('df-a36a5f7d-8b8b-436c-90f0-3d1ae8c919cf')\"\n",
              "              title=\"Suggest charts.\"\n",
              "              style=\"display:none;\">\n",
              "\n",
              "<svg xmlns=\"http://www.w3.org/2000/svg\" height=\"24px\"viewBox=\"0 0 24 24\"\n",
              "     width=\"24px\">\n",
              "    <g>\n",
              "        <path d=\"M19 3H5c-1.1 0-2 .9-2 2v14c0 1.1.9 2 2 2h14c1.1 0 2-.9 2-2V5c0-1.1-.9-2-2-2zM9 17H7v-7h2v7zm4 0h-2V7h2v10zm4 0h-2v-4h2v4z\"/>\n",
              "    </g>\n",
              "</svg>\n",
              "      </button>\n",
              "    </div>\n",
              "\n",
              "<style>\n",
              "  .colab-df-quickchart {\n",
              "    background-color: #E8F0FE;\n",
              "    border: none;\n",
              "    border-radius: 50%;\n",
              "    cursor: pointer;\n",
              "    display: none;\n",
              "    fill: #1967D2;\n",
              "    height: 32px;\n",
              "    padding: 0 0 0 0;\n",
              "    width: 32px;\n",
              "  }\n",
              "\n",
              "  .colab-df-quickchart:hover {\n",
              "    background-color: #E2EBFA;\n",
              "    box-shadow: 0px 1px 2px rgba(60, 64, 67, 0.3), 0px 1px 3px 1px rgba(60, 64, 67, 0.15);\n",
              "    fill: #174EA6;\n",
              "  }\n",
              "\n",
              "  [theme=dark] .colab-df-quickchart {\n",
              "    background-color: #3B4455;\n",
              "    fill: #D2E3FC;\n",
              "  }\n",
              "\n",
              "  [theme=dark] .colab-df-quickchart:hover {\n",
              "    background-color: #434B5C;\n",
              "    box-shadow: 0px 1px 3px 1px rgba(0, 0, 0, 0.15);\n",
              "    filter: drop-shadow(0px 1px 2px rgba(0, 0, 0, 0.3));\n",
              "    fill: #FFFFFF;\n",
              "  }\n",
              "</style>\n",
              "\n",
              "    <script>\n",
              "      async function quickchart(key) {\n",
              "        const containerElement = document.querySelector('#' + key);\n",
              "        const charts = await google.colab.kernel.invokeFunction(\n",
              "            'suggestCharts', [key], {});\n",
              "      }\n",
              "    </script>\n",
              "\n",
              "      <script>\n",
              "\n",
              "function displayQuickchartButton(domScope) {\n",
              "  let quickchartButtonEl =\n",
              "    domScope.querySelector('#df-a36a5f7d-8b8b-436c-90f0-3d1ae8c919cf button.colab-df-quickchart');\n",
              "  quickchartButtonEl.style.display =\n",
              "    google.colab.kernel.accessAllowed ? 'block' : 'none';\n",
              "}\n",
              "\n",
              "        displayQuickchartButton(document);\n",
              "      </script>\n",
              "      <style>\n",
              "    .colab-df-container {\n",
              "      display:flex;\n",
              "      flex-wrap:wrap;\n",
              "      gap: 12px;\n",
              "    }\n",
              "\n",
              "    .colab-df-convert {\n",
              "      background-color: #E8F0FE;\n",
              "      border: none;\n",
              "      border-radius: 50%;\n",
              "      cursor: pointer;\n",
              "      display: none;\n",
              "      fill: #1967D2;\n",
              "      height: 32px;\n",
              "      padding: 0 0 0 0;\n",
              "      width: 32px;\n",
              "    }\n",
              "\n",
              "    .colab-df-convert:hover {\n",
              "      background-color: #E2EBFA;\n",
              "      box-shadow: 0px 1px 2px rgba(60, 64, 67, 0.3), 0px 1px 3px 1px rgba(60, 64, 67, 0.15);\n",
              "      fill: #174EA6;\n",
              "    }\n",
              "\n",
              "    [theme=dark] .colab-df-convert {\n",
              "      background-color: #3B4455;\n",
              "      fill: #D2E3FC;\n",
              "    }\n",
              "\n",
              "    [theme=dark] .colab-df-convert:hover {\n",
              "      background-color: #434B5C;\n",
              "      box-shadow: 0px 1px 3px 1px rgba(0, 0, 0, 0.15);\n",
              "      filter: drop-shadow(0px 1px 2px rgba(0, 0, 0, 0.3));\n",
              "      fill: #FFFFFF;\n",
              "    }\n",
              "  </style>\n",
              "\n",
              "      <script>\n",
              "        const buttonEl =\n",
              "          document.querySelector('#df-68e2452d-8d61-4daa-9ba6-cb1a7bbd9e87 button.colab-df-convert');\n",
              "        buttonEl.style.display =\n",
              "          google.colab.kernel.accessAllowed ? 'block' : 'none';\n",
              "\n",
              "        async function convertToInteractive(key) {\n",
              "          const element = document.querySelector('#df-68e2452d-8d61-4daa-9ba6-cb1a7bbd9e87');\n",
              "          const dataTable =\n",
              "            await google.colab.kernel.invokeFunction('convertToInteractive',\n",
              "                                                     [key], {});\n",
              "          if (!dataTable) return;\n",
              "\n",
              "          const docLinkHtml = 'Like what you see? Visit the ' +\n",
              "            '<a target=\"_blank\" href=https://colab.research.google.com/notebooks/data_table.ipynb>data table notebook</a>'\n",
              "            + ' to learn more about interactive tables.';\n",
              "          element.innerHTML = '';\n",
              "          dataTable['output_type'] = 'display_data';\n",
              "          await google.colab.output.renderOutput(dataTable, element);\n",
              "          const docLink = document.createElement('div');\n",
              "          docLink.innerHTML = docLinkHtml;\n",
              "          element.appendChild(docLink);\n",
              "        }\n",
              "      </script>\n",
              "    </div>\n",
              "  </div>\n"
            ]
          },
          "metadata": {},
          "execution_count": 28
        }
      ],
      "source": [
        "\n",
        "df_gab.head()"
      ]
    },
    {
      "cell_type": "code",
      "execution_count": null,
      "metadata": {
        "colab": {
          "base_uri": "https://localhost:8080/"
        },
        "id": "pq84wntXnOhu",
        "outputId": "d9e0ab10-fe45-4e8b-eafb-67798e969a12"
      },
      "outputs": [
        {
          "output_type": "stream",
          "name": "stdout",
          "text": [
            "Number of unique customers: 447\n"
          ]
        }
      ],
      "source": [
        "num_customers = df_gab.customerid.nunique()\n",
        "\n",
        "print(\"Number of unique customers:\", num_customers)"
      ]
    },
    {
      "cell_type": "markdown",
      "metadata": {
        "id": "x3AIIqynnL3-"
      },
      "source": [
        "> **Insights:**\n",
        "\n",
        "Terdapat 447 customer yang unik."
      ]
    },
    {
      "cell_type": "code",
      "execution_count": null,
      "metadata": {
        "colab": {
          "base_uri": "https://localhost:8080/",
          "height": 143
        },
        "id": "xH2kJxfA3A92",
        "outputId": "af6e83af-c8b9-4f72-fad2-c679375dfab7"
      },
      "outputs": [
        {
          "output_type": "execute_result",
          "data": {
            "text/plain": [
              "               count        mean         std      min       25%       50%  \\\n",
              "tot_transaksi  447.0      11.230       3.245      3.0       9.0      11.0   \n",
              "tot_qty        447.0      40.931      12.757     10.0      32.0      40.0   \n",
              "tot_amount     447.0  362512.304  124634.279  92100.0  271750.0  354200.0   \n",
              "\n",
              "                    75%       max  \n",
              "tot_transaksi      14.0      21.0  \n",
              "tot_qty            50.0      79.0  \n",
              "tot_amount     441200.0  846700.0  "
            ],
            "text/html": [
              "\n",
              "\n",
              "  <div id=\"df-de3e75a6-b187-415c-8659-e05bc3103bf8\">\n",
              "    <div class=\"colab-df-container\">\n",
              "      <div>\n",
              "<style scoped>\n",
              "    .dataframe tbody tr th:only-of-type {\n",
              "        vertical-align: middle;\n",
              "    }\n",
              "\n",
              "    .dataframe tbody tr th {\n",
              "        vertical-align: top;\n",
              "    }\n",
              "\n",
              "    .dataframe thead th {\n",
              "        text-align: right;\n",
              "    }\n",
              "</style>\n",
              "<table border=\"1\" class=\"dataframe\">\n",
              "  <thead>\n",
              "    <tr style=\"text-align: right;\">\n",
              "      <th></th>\n",
              "      <th>count</th>\n",
              "      <th>mean</th>\n",
              "      <th>std</th>\n",
              "      <th>min</th>\n",
              "      <th>25%</th>\n",
              "      <th>50%</th>\n",
              "      <th>75%</th>\n",
              "      <th>max</th>\n",
              "    </tr>\n",
              "  </thead>\n",
              "  <tbody>\n",
              "    <tr>\n",
              "      <th>tot_transaksi</th>\n",
              "      <td>447.0</td>\n",
              "      <td>11.230</td>\n",
              "      <td>3.245</td>\n",
              "      <td>3.0</td>\n",
              "      <td>9.0</td>\n",
              "      <td>11.0</td>\n",
              "      <td>14.0</td>\n",
              "      <td>21.0</td>\n",
              "    </tr>\n",
              "    <tr>\n",
              "      <th>tot_qty</th>\n",
              "      <td>447.0</td>\n",
              "      <td>40.931</td>\n",
              "      <td>12.757</td>\n",
              "      <td>10.0</td>\n",
              "      <td>32.0</td>\n",
              "      <td>40.0</td>\n",
              "      <td>50.0</td>\n",
              "      <td>79.0</td>\n",
              "    </tr>\n",
              "    <tr>\n",
              "      <th>tot_amount</th>\n",
              "      <td>447.0</td>\n",
              "      <td>362512.304</td>\n",
              "      <td>124634.279</td>\n",
              "      <td>92100.0</td>\n",
              "      <td>271750.0</td>\n",
              "      <td>354200.0</td>\n",
              "      <td>441200.0</td>\n",
              "      <td>846700.0</td>\n",
              "    </tr>\n",
              "  </tbody>\n",
              "</table>\n",
              "</div>\n",
              "      <button class=\"colab-df-convert\" onclick=\"convertToInteractive('df-de3e75a6-b187-415c-8659-e05bc3103bf8')\"\n",
              "              title=\"Convert this dataframe to an interactive table.\"\n",
              "              style=\"display:none;\">\n",
              "\n",
              "  <svg xmlns=\"http://www.w3.org/2000/svg\" height=\"24px\"viewBox=\"0 0 24 24\"\n",
              "       width=\"24px\">\n",
              "    <path d=\"M0 0h24v24H0V0z\" fill=\"none\"/>\n",
              "    <path d=\"M18.56 5.44l.94 2.06.94-2.06 2.06-.94-2.06-.94-.94-2.06-.94 2.06-2.06.94zm-11 1L8.5 8.5l.94-2.06 2.06-.94-2.06-.94L8.5 2.5l-.94 2.06-2.06.94zm10 10l.94 2.06.94-2.06 2.06-.94-2.06-.94-.94-2.06-.94 2.06-2.06.94z\"/><path d=\"M17.41 7.96l-1.37-1.37c-.4-.4-.92-.59-1.43-.59-.52 0-1.04.2-1.43.59L10.3 9.45l-7.72 7.72c-.78.78-.78 2.05 0 2.83L4 21.41c.39.39.9.59 1.41.59.51 0 1.02-.2 1.41-.59l7.78-7.78 2.81-2.81c.8-.78.8-2.07 0-2.86zM5.41 20L4 18.59l7.72-7.72 1.47 1.35L5.41 20z\"/>\n",
              "  </svg>\n",
              "      </button>\n",
              "\n",
              "\n",
              "\n",
              "    <div id=\"df-ced136d7-300e-4256-a0fd-896f44a9fa31\">\n",
              "      <button class=\"colab-df-quickchart\" onclick=\"quickchart('df-ced136d7-300e-4256-a0fd-896f44a9fa31')\"\n",
              "              title=\"Suggest charts.\"\n",
              "              style=\"display:none;\">\n",
              "\n",
              "<svg xmlns=\"http://www.w3.org/2000/svg\" height=\"24px\"viewBox=\"0 0 24 24\"\n",
              "     width=\"24px\">\n",
              "    <g>\n",
              "        <path d=\"M19 3H5c-1.1 0-2 .9-2 2v14c0 1.1.9 2 2 2h14c1.1 0 2-.9 2-2V5c0-1.1-.9-2-2-2zM9 17H7v-7h2v7zm4 0h-2V7h2v10zm4 0h-2v-4h2v4z\"/>\n",
              "    </g>\n",
              "</svg>\n",
              "      </button>\n",
              "    </div>\n",
              "\n",
              "<style>\n",
              "  .colab-df-quickchart {\n",
              "    background-color: #E8F0FE;\n",
              "    border: none;\n",
              "    border-radius: 50%;\n",
              "    cursor: pointer;\n",
              "    display: none;\n",
              "    fill: #1967D2;\n",
              "    height: 32px;\n",
              "    padding: 0 0 0 0;\n",
              "    width: 32px;\n",
              "  }\n",
              "\n",
              "  .colab-df-quickchart:hover {\n",
              "    background-color: #E2EBFA;\n",
              "    box-shadow: 0px 1px 2px rgba(60, 64, 67, 0.3), 0px 1px 3px 1px rgba(60, 64, 67, 0.15);\n",
              "    fill: #174EA6;\n",
              "  }\n",
              "\n",
              "  [theme=dark] .colab-df-quickchart {\n",
              "    background-color: #3B4455;\n",
              "    fill: #D2E3FC;\n",
              "  }\n",
              "\n",
              "  [theme=dark] .colab-df-quickchart:hover {\n",
              "    background-color: #434B5C;\n",
              "    box-shadow: 0px 1px 3px 1px rgba(0, 0, 0, 0.15);\n",
              "    filter: drop-shadow(0px 1px 2px rgba(0, 0, 0, 0.3));\n",
              "    fill: #FFFFFF;\n",
              "  }\n",
              "</style>\n",
              "\n",
              "    <script>\n",
              "      async function quickchart(key) {\n",
              "        const containerElement = document.querySelector('#' + key);\n",
              "        const charts = await google.colab.kernel.invokeFunction(\n",
              "            'suggestCharts', [key], {});\n",
              "      }\n",
              "    </script>\n",
              "\n",
              "      <script>\n",
              "\n",
              "function displayQuickchartButton(domScope) {\n",
              "  let quickchartButtonEl =\n",
              "    domScope.querySelector('#df-ced136d7-300e-4256-a0fd-896f44a9fa31 button.colab-df-quickchart');\n",
              "  quickchartButtonEl.style.display =\n",
              "    google.colab.kernel.accessAllowed ? 'block' : 'none';\n",
              "}\n",
              "\n",
              "        displayQuickchartButton(document);\n",
              "      </script>\n",
              "      <style>\n",
              "    .colab-df-container {\n",
              "      display:flex;\n",
              "      flex-wrap:wrap;\n",
              "      gap: 12px;\n",
              "    }\n",
              "\n",
              "    .colab-df-convert {\n",
              "      background-color: #E8F0FE;\n",
              "      border: none;\n",
              "      border-radius: 50%;\n",
              "      cursor: pointer;\n",
              "      display: none;\n",
              "      fill: #1967D2;\n",
              "      height: 32px;\n",
              "      padding: 0 0 0 0;\n",
              "      width: 32px;\n",
              "    }\n",
              "\n",
              "    .colab-df-convert:hover {\n",
              "      background-color: #E2EBFA;\n",
              "      box-shadow: 0px 1px 2px rgba(60, 64, 67, 0.3), 0px 1px 3px 1px rgba(60, 64, 67, 0.15);\n",
              "      fill: #174EA6;\n",
              "    }\n",
              "\n",
              "    [theme=dark] .colab-df-convert {\n",
              "      background-color: #3B4455;\n",
              "      fill: #D2E3FC;\n",
              "    }\n",
              "\n",
              "    [theme=dark] .colab-df-convert:hover {\n",
              "      background-color: #434B5C;\n",
              "      box-shadow: 0px 1px 3px 1px rgba(0, 0, 0, 0.15);\n",
              "      filter: drop-shadow(0px 1px 2px rgba(0, 0, 0, 0.3));\n",
              "      fill: #FFFFFF;\n",
              "    }\n",
              "  </style>\n",
              "\n",
              "      <script>\n",
              "        const buttonEl =\n",
              "          document.querySelector('#df-de3e75a6-b187-415c-8659-e05bc3103bf8 button.colab-df-convert');\n",
              "        buttonEl.style.display =\n",
              "          google.colab.kernel.accessAllowed ? 'block' : 'none';\n",
              "\n",
              "        async function convertToInteractive(key) {\n",
              "          const element = document.querySelector('#df-de3e75a6-b187-415c-8659-e05bc3103bf8');\n",
              "          const dataTable =\n",
              "            await google.colab.kernel.invokeFunction('convertToInteractive',\n",
              "                                                     [key], {});\n",
              "          if (!dataTable) return;\n",
              "\n",
              "          const docLinkHtml = 'Like what you see? Visit the ' +\n",
              "            '<a target=\"_blank\" href=https://colab.research.google.com/notebooks/data_table.ipynb>data table notebook</a>'\n",
              "            + ' to learn more about interactive tables.';\n",
              "          element.innerHTML = '';\n",
              "          dataTable['output_type'] = 'display_data';\n",
              "          await google.colab.output.renderOutput(dataTable, element);\n",
              "          const docLink = document.createElement('div');\n",
              "          docLink.innerHTML = docLinkHtml;\n",
              "          element.appendChild(docLink);\n",
              "        }\n",
              "      </script>\n",
              "    </div>\n",
              "  </div>\n"
            ]
          },
          "metadata": {},
          "execution_count": 32
        }
      ],
      "source": [
        "# Summary statistics dari customer transaction\n",
        "df_gab.describe().T.round(3)"
      ]
    },
    {
      "cell_type": "code",
      "execution_count": null,
      "metadata": {
        "colab": {
          "base_uri": "https://localhost:8080/",
          "height": 544
        },
        "id": "qa5rpkj32fSJ",
        "outputId": "1ada0115-19e4-481b-d2f1-bd91219058b5"
      },
      "outputs": [
        {
          "output_type": "stream",
          "name": "stderr",
          "text": [
            "<ipython-input-31-fa6fcf0b2197>:2: FutureWarning: The default value of numeric_only in DataFrame.corr is deprecated. In a future version, it will default to False. Select only valid columns or specify the value of numeric_only to silence this warning.\n",
            "  sns.heatmap(df_gab.corr(), annot=True)\n"
          ]
        },
        {
          "output_type": "display_data",
          "data": {
            "text/plain": [
              "<Figure size 800x550 with 2 Axes>"
            ],
            "image/png": "[encoded data removed]"
          },
          "metadata": {}
        }
      ],
      "source": [
        "# Visualisasikan hubungan antara variabel numerik pada df_gab\n",
        "sns.heatmap(df_gab.corr(), annot=True)\n",
        "plt.show()"
      ]
    },
    {
      "cell_type": "markdown",
      "metadata": {
        "id": "e8rKR79bGGuF"
      },
      "source": [
        "# Clustering Development"
      ]
    },
    {
      "cell_type": "markdown",
      "metadata": {
        "id": "R3LzNV1I3nXr"
      },
      "source": [
        "## 3 Model Development\n"
      ]
    },
    {
      "cell_type": "code",
      "execution_count": null,
      "metadata": {
        "colab": {
          "base_uri": "https://localhost:8080/",
          "height": 206
        },
        "id": "-uqx7Gb93hc5",
        "outputId": "bbe4e445-e9a3-46ad-9f81-924e871f9b58"
      },
      "outputs": [
        {
          "output_type": "execute_result",
          "data": {
            "text/plain": [
              "  customerid  tot_transaksi  tot_qty  tot_amount\n",
              "0          1             17       60      623300\n",
              "1          2             13       57      392300\n",
              "2          3             15       56      446200\n",
              "3          4             10       46      302500\n",
              "4          5              7       27      268600"
            ],
            "text/html": [
              "\n",
              "\n",
              "  <div id=\"df-f8dd285d-319b-4233-921e-85db98756a3f\">\n",
              "    <div class=\"colab-df-container\">\n",
              "      <div>\n",
              "<style scoped>\n",
              "    .dataframe tbody tr th:only-of-type {\n",
              "        vertical-align: middle;\n",
              "    }\n",
              "\n",
              "    .dataframe tbody tr th {\n",
              "        vertical-align: top;\n",
              "    }\n",
              "\n",
              "    .dataframe thead th {\n",
              "        text-align: right;\n",
              "    }\n",
              "</style>\n",
              "<table border=\"1\" class=\"dataframe\">\n",
              "  <thead>\n",
              "    <tr style=\"text-align: right;\">\n",
              "      <th></th>\n",
              "      <th>customerid</th>\n",
              "      <th>tot_transaksi</th>\n",
              "      <th>tot_qty</th>\n",
              "      <th>tot_amount</th>\n",
              "    </tr>\n",
              "  </thead>\n",
              "  <tbody>\n",
              "    <tr>\n",
              "      <th>0</th>\n",
              "      <td>1</td>\n",
              "      <td>17</td>\n",
              "      <td>60</td>\n",
              "      <td>623300</td>\n",
              "    </tr>\n",
              "    <tr>\n",
              "      <th>1</th>\n",
              "      <td>2</td>\n",
              "      <td>13</td>\n",
              "      <td>57</td>\n",
              "      <td>392300</td>\n",
              "    </tr>\n",
              "    <tr>\n",
              "      <th>2</th>\n",
              "      <td>3</td>\n",
              "      <td>15</td>\n",
              "      <td>56</td>\n",
              "      <td>446200</td>\n",
              "    </tr>\n",
              "    <tr>\n",
              "      <th>3</th>\n",
              "      <td>4</td>\n",
              "      <td>10</td>\n",
              "      <td>46</td>\n",
              "      <td>302500</td>\n",
              "    </tr>\n",
              "    <tr>\n",
              "      <th>4</th>\n",
              "      <td>5</td>\n",
              "      <td>7</td>\n",
              "      <td>27</td>\n",
              "      <td>268600</td>\n",
              "    </tr>\n",
              "  </tbody>\n",
              "</table>\n",
              "</div>\n",
              "      <button class=\"colab-df-convert\" onclick=\"convertToInteractive('df-f8dd285d-319b-4233-921e-85db98756a3f')\"\n",
              "              title=\"Convert this dataframe to an interactive table.\"\n",
              "              style=\"display:none;\">\n",
              "\n",
              "  <svg xmlns=\"http://www.w3.org/2000/svg\" height=\"24px\"viewBox=\"0 0 24 24\"\n",
              "       width=\"24px\">\n",
              "    <path d=\"M0 0h24v24H0V0z\" fill=\"none\"/>\n",
              "    <path d=\"M18.56 5.44l.94 2.06.94-2.06 2.06-.94-2.06-.94-.94-2.06-.94 2.06-2.06.94zm-11 1L8.5 8.5l.94-2.06 2.06-.94-2.06-.94L8.5 2.5l-.94 2.06-2.06.94zm10 10l.94 2.06.94-2.06 2.06-.94-2.06-.94-.94-2.06-.94 2.06-2.06.94z\"/><path d=\"M17.41 7.96l-1.37-1.37c-.4-.4-.92-.59-1.43-.59-.52 0-1.04.2-1.43.59L10.3 9.45l-7.72 7.72c-.78.78-.78 2.05 0 2.83L4 21.41c.39.39.9.59 1.41.59.51 0 1.02-.2 1.41-.59l7.78-7.78 2.81-2.81c.8-.78.8-2.07 0-2.86zM5.41 20L4 18.59l7.72-7.72 1.47 1.35L5.41 20z\"/>\n",
              "  </svg>\n",
              "      </button>\n",
              "\n",
              "\n",
              "\n",
              "    <div id=\"df-80744700-ca7c-4f29-9701-511cd63f5320\">\n",
              "      <button class=\"colab-df-quickchart\" onclick=\"quickchart('df-80744700-ca7c-4f29-9701-511cd63f5320')\"\n",
              "              title=\"Suggest charts.\"\n",
              "              style=\"display:none;\">\n",
              "\n",
              "<svg xmlns=\"http://www.w3.org/2000/svg\" height=\"24px\"viewBox=\"0 0 24 24\"\n",
              "     width=\"24px\">\n",
              "    <g>\n",
              "        <path d=\"M19 3H5c-1.1 0-2 .9-2 2v14c0 1.1.9 2 2 2h14c1.1 0 2-.9 2-2V5c0-1.1-.9-2-2-2zM9 17H7v-7h2v7zm4 0h-2V7h2v10zm4 0h-2v-4h2v4z\"/>\n",
              "    </g>\n",
              "</svg>\n",
              "      </button>\n",
              "    </div>\n",
              "\n",
              "<style>\n",
              "  .colab-df-quickchart {\n",
              "    background-color: #E8F0FE;\n",
              "    border: none;\n",
              "    border-radius: 50%;\n",
              "    cursor: pointer;\n",
              "    display: none;\n",
              "    fill: #1967D2;\n",
              "    height: 32px;\n",
              "    padding: 0 0 0 0;\n",
              "    width: 32px;\n",
              "  }\n",
              "\n",
              "  .colab-df-quickchart:hover {\n",
              "    background-color: #E2EBFA;\n",
              "    box-shadow: 0px 1px 2px rgba(60, 64, 67, 0.3), 0px 1px 3px 1px rgba(60, 64, 67, 0.15);\n",
              "    fill: #174EA6;\n",
              "  }\n",
              "\n",
              "  [theme=dark] .colab-df-quickchart {\n",
              "    background-color: #3B4455;\n",
              "    fill: #D2E3FC;\n",
              "  }\n",
              "\n",
              "  [theme=dark] .colab-df-quickchart:hover {\n",
              "    background-color: #434B5C;\n",
              "    box-shadow: 0px 1px 3px 1px rgba(0, 0, 0, 0.15);\n",
              "    filter: drop-shadow(0px 1px 2px rgba(0, 0, 0, 0.3));\n",
              "    fill: #FFFFFF;\n",
              "  }\n",
              "</style>\n",
              "\n",
              "    <script>\n",
              "      async function quickchart(key) {\n",
              "        const containerElement = document.querySelector('#' + key);\n",
              "        const charts = await google.colab.kernel.invokeFunction(\n",
              "            'suggestCharts', [key], {});\n",
              "      }\n",
              "    </script>\n",
              "\n",
              "      <script>\n",
              "\n",
              "function displayQuickchartButton(domScope) {\n",
              "  let quickchartButtonEl =\n",
              "    domScope.querySelector('#df-80744700-ca7c-4f29-9701-511cd63f5320 button.colab-df-quickchart');\n",
              "  quickchartButtonEl.style.display =\n",
              "    google.colab.kernel.accessAllowed ? 'block' : 'none';\n",
              "}\n",
              "\n",
              "        displayQuickchartButton(document);\n",
              "      </script>\n",
              "      <style>\n",
              "    .colab-df-container {\n",
              "      display:flex;\n",
              "      flex-wrap:wrap;\n",
              "      gap: 12px;\n",
              "    }\n",
              "\n",
              "    .colab-df-convert {\n",
              "      background-color: #E8F0FE;\n",
              "      border: none;\n",
              "      border-radius: 50%;\n",
              "      cursor: pointer;\n",
              "      display: none;\n",
              "      fill: #1967D2;\n",
              "      height: 32px;\n",
              "      padding: 0 0 0 0;\n",
              "      width: 32px;\n",
              "    }\n",
              "\n",
              "    .colab-df-convert:hover {\n",
              "      background-color: #E2EBFA;\n",
              "      box-shadow: 0px 1px 2px rgba(60, 64, 67, 0.3), 0px 1px 3px 1px rgba(60, 64, 67, 0.15);\n",
              "      fill: #174EA6;\n",
              "    }\n",
              "\n",
              "    [theme=dark] .colab-df-convert {\n",
              "      background-color: #3B4455;\n",
              "      fill: #D2E3FC;\n",
              "    }\n",
              "\n",
              "    [theme=dark] .colab-df-convert:hover {\n",
              "      background-color: #434B5C;\n",
              "      box-shadow: 0px 1px 3px 1px rgba(0, 0, 0, 0.15);\n",
              "      filter: drop-shadow(0px 1px 2px rgba(0, 0, 0, 0.3));\n",
              "      fill: #FFFFFF;\n",
              "    }\n",
              "  </style>\n",
              "\n",
              "      <script>\n",
              "        const buttonEl =\n",
              "          document.querySelector('#df-f8dd285d-319b-4233-921e-85db98756a3f button.colab-df-convert');\n",
              "        buttonEl.style.display =\n",
              "          google.colab.kernel.accessAllowed ? 'block' : 'none';\n",
              "\n",
              "        async function convertToInteractive(key) {\n",
              "          const element = document.querySelector('#df-f8dd285d-319b-4233-921e-85db98756a3f');\n",
              "          const dataTable =\n",
              "            await google.colab.kernel.invokeFunction('convertToInteractive',\n",
              "                                                     [key], {});\n",
              "          if (!dataTable) return;\n",
              "\n",
              "          const docLinkHtml = 'Like what you see? Visit the ' +\n",
              "            '<a target=\"_blank\" href=https://colab.research.google.com/notebooks/data_table.ipynb>data table notebook</a>'\n",
              "            + ' to learn more about interactive tables.';\n",
              "          element.innerHTML = '';\n",
              "          dataTable['output_type'] = 'display_data';\n",
              "          await google.colab.output.renderOutput(dataTable, element);\n",
              "          const docLink = document.createElement('div');\n",
              "          docLink.innerHTML = docLinkHtml;\n",
              "          element.appendChild(docLink);\n",
              "        }\n",
              "      </script>\n",
              "    </div>\n",
              "  </div>\n"
            ]
          },
          "metadata": {},
          "execution_count": 33
        }
      ],
      "source": [
        "X = df_gab\n",
        "X.head()"
      ]
    },
    {
      "cell_type": "code",
      "execution_count": null,
      "metadata": {
        "colab": {
          "base_uri": "https://localhost:8080/"
        },
        "id": "-5iSoB4hEGDH",
        "outputId": "0d16ff41-2229-4316-fd29-0cbe38063c7c"
      },
      "outputs": [
        {
          "output_type": "stream",
          "name": "stdout",
          "text": [
            "<class 'pandas.core.frame.DataFrame'>\n",
            "RangeIndex: 447 entries, 0 to 446\n",
            "Data columns (total 4 columns):\n",
            " #   Column         Non-Null Count  Dtype \n",
            "---  ------         --------------  ----- \n",
            " 0   customerid     447 non-null    object\n",
            " 1   tot_transaksi  447 non-null    int64 \n",
            " 2   tot_qty        447 non-null    int64 \n",
            " 3   tot_amount     447 non-null    int64 \n",
            "dtypes: int64(3), object(1)\n",
            "memory usage: 14.1+ KB\n"
          ]
        }
      ],
      "source": [
        "X.info()"
      ]
    },
    {
      "cell_type": "markdown",
      "metadata": {
        "id": "i066NLHDMBJz"
      },
      "source": [
        "### 3.1 Data Preparation\n",
        "\n"
      ]
    },
    {
      "cell_type": "code",
      "source": [
        "from sklearn.preprocessing import LabelEncoder\n",
        "\n",
        "# Menggunakan LabelEncoder untuk mengubah customerid menjadi nilai numerik\n",
        "label_encoder = LabelEncoder()\n",
        "df_gab['customerid_numeric'] = label_encoder.fit_transform(df_gab['customerid'])"
      ],
      "metadata": {
        "id": "hnsHxblor_y5"
      },
      "execution_count": null,
      "outputs": []
    },
    {
      "cell_type": "markdown",
      "source": [
        "> Selanjutnya melakukan standarisasi pada kolom tot_transaksi, tot_qty dan tot_amount"
      ],
      "metadata": {
        "id": "eJBgSW7RspZZ"
      }
    },
    {
      "cell_type": "code",
      "source": [
        "# Mengambil kolom numerik yang akan di-standarisasi\n",
        "columns_to_standardize = ['tot_transaksi', 'tot_qty', 'tot_amount']\n",
        "\n",
        "# Standarisasi kolom numerik\n",
        "scaler = StandardScaler()\n",
        "df_gab[columns_to_standardize] = scaler.fit_transform(df_gab[columns_to_standardize])\n",
        "\n",
        "# Tampilkan hasil setelah standarisasi\n",
        "print(df_gab)"
      ],
      "metadata": {
        "colab": {
          "base_uri": "https://localhost:8080/"
        },
        "id": "pg2Cc_2_sm5r",
        "outputId": "b8b13d4e-a70e-4dca-af13-b699d475c8b7"
      },
      "execution_count": null,
      "outputs": [
        {
          "output_type": "stream",
          "name": "stdout",
          "text": [
            "    customerid  tot_transaksi   tot_qty  tot_amount  customerid_numeric\n",
            "0            1       1.779816  1.496527    2.094768                   0\n",
            "1            2       0.545884  1.261093    0.239269                   1\n",
            "2            3       1.162850  1.182615    0.672218                   2\n",
            "3            4      -0.379565  0.397833   -0.482047                   3\n",
            "4            5      -1.305014 -1.093251   -0.754347                   4\n",
            "..         ...            ...       ...         ...                 ...\n",
            "442        443       1.471333  1.418049    0.984681                 442\n",
            "443        444       2.088298  1.653484    1.728488                 443\n",
            "444        445       2.088298  2.124352    1.804796                 444\n",
            "445        446      -0.071082  0.083921    0.488275                 445\n",
            "446        447       0.545884  0.083921    0.616794                 446\n",
            "\n",
            "[447 rows x 5 columns]\n"
          ]
        }
      ]
    },
    {
      "cell_type": "markdown",
      "metadata": {
        "id": "YZTQ5hLgbXK6"
      },
      "source": [
        "### 3.2 K-Means\n",
        "\n",
        "* Dalam tahap awal saya akan menentukan initial `k`, dimana saya akan mencoba menentukannya menggunakan Elbow Method\n",
        "\n",
        "* *Notes*. Durasi pelatihan model akan berbanding lurus dengan banyaknya data dan jumlah cluster (`k`) yang ditentukan"
      ]
    },
    {
      "cell_type": "markdown",
      "source": [
        "> Metode Elbow (Siku):\n",
        "Metode ini melibatkan plot nilai inersia (inertia) terhadap nilai K. Inersia adalah jumlah jarak kuadrat antara setiap anggota klaster dengan pusat klasternya. Jumlah inersia cenderung menurun ketika nilai K meningkat karena setiap klaster akan memiliki lebih sedikit anggota. Namun, pada titik tertentu, penurunan inersia akan melambat, dan grafik inersia terlihat seperti siku. Nilai K yang tepat dapat dianggap sebagai titik di mana penurunan inersia tidak sebesar sebelumnya (siku dalam grafik). Nilai K yang sesuai adalah saat inersia mulai menurun dengan lambat setelah titik siku."
      ],
      "metadata": {
        "id": "5KYf4bhpvBeC"
      }
    },
    {
      "cell_type": "code",
      "source": [
        "# Implementasi metode Elbow Method\n",
        "inertia_values = []\n",
        "k_values = range(1, 11)\n",
        "\n",
        "for k in k_values:\n",
        "    kmeans = KMeans(n_clusters=k, random_state=0)\n",
        "    kmeans.fit(df_gab[columns_to_standardize])\n",
        "    inertia_values.append(kmeans.inertia_)\n",
        "\n",
        "# Plot nilai inersia untuk setiap nilai K\n",
        "plt.plot(k_values, inertia_values, marker='o')\n",
        "plt.xlabel('Number of Clusters (K)')\n",
        "plt.ylabel('Inertia')\n",
        "plt.title('Elbow Method for Optimal K')\n",
        "plt.show()"
      ],
      "metadata": {
        "colab": {
          "base_uri": "https://localhost:8080/",
          "height": 891
        },
        "id": "DdSrZ4vRuGDM",
        "outputId": "de2f6209-86c8-4868-f2bb-e4d61941404c"
      },
      "execution_count": null,
      "outputs": [
        {
          "output_type": "stream",
          "name": "stderr",
          "text": [
            "/usr/local/lib/python3.10/dist-packages/sklearn/cluster/_kmeans.py:870: FutureWarning: The default value of `n_init` will change from 10 to 'auto' in 1.4. Set the value of `n_init` explicitly to suppress the warning\n",
            "  warnings.warn(\n",
            "/usr/local/lib/python3.10/dist-packages/sklearn/cluster/_kmeans.py:870: FutureWarning: The default value of `n_init` will change from 10 to 'auto' in 1.4. Set the value of `n_init` explicitly to suppress the warning\n",
            "  warnings.warn(\n",
            "/usr/local/lib/python3.10/dist-packages/sklearn/cluster/_kmeans.py:870: FutureWarning: The default value of `n_init` will change from 10 to 'auto' in 1.4. Set the value of `n_init` explicitly to suppress the warning\n",
            "  warnings.warn(\n",
            "/usr/local/lib/python3.10/dist-packages/sklearn/cluster/_kmeans.py:870: FutureWarning: The default value of `n_init` will change from 10 to 'auto' in 1.4. Set the value of `n_init` explicitly to suppress the warning\n",
            "  warnings.warn(\n",
            "/usr/local/lib/python3.10/dist-packages/sklearn/cluster/_kmeans.py:870: FutureWarning: The default value of `n_init` will change from 10 to 'auto' in 1.4. Set the value of `n_init` explicitly to suppress the warning\n",
            "  warnings.warn(\n",
            "/usr/local/lib/python3.10/dist-packages/sklearn/cluster/_kmeans.py:870: FutureWarning: The default value of `n_init` will change from 10 to 'auto' in 1.4. Set the value of `n_init` explicitly to suppress the warning\n",
            "  warnings.warn(\n",
            "/usr/local/lib/python3.10/dist-packages/sklearn/cluster/_kmeans.py:870: FutureWarning: The default value of `n_init` will change from 10 to 'auto' in 1.4. Set the value of `n_init` explicitly to suppress the warning\n",
            "  warnings.warn(\n",
            "/usr/local/lib/python3.10/dist-packages/sklearn/cluster/_kmeans.py:870: FutureWarning: The default value of `n_init` will change from 10 to 'auto' in 1.4. Set the value of `n_init` explicitly to suppress the warning\n",
            "  warnings.warn(\n",
            "/usr/local/lib/python3.10/dist-packages/sklearn/cluster/_kmeans.py:870: FutureWarning: The default value of `n_init` will change from 10 to 'auto' in 1.4. Set the value of `n_init` explicitly to suppress the warning\n",
            "  warnings.warn(\n",
            "/usr/local/lib/python3.10/dist-packages/sklearn/cluster/_kmeans.py:870: FutureWarning: The default value of `n_init` will change from 10 to 'auto' in 1.4. Set the value of `n_init` explicitly to suppress the warning\n",
            "  warnings.warn(\n"
          ]
        },
        {
          "output_type": "display_data",
          "data": {
            "text/plain": [
              "<Figure size 800x550 with 1 Axes>"
            ],
            "image/png": "[encoded data removed]"
          },
          "metadata": {}
        }
      ]
    },
    {
      "cell_type": "markdown",
      "source": [
        "* Kemugkinan cluster yang tepat adalah 4 berdasarkan hasil penurunan insersia pada hasil grafik elbow method diatas\n",
        "\n",
        "> Agar lebih yakin lebih baiknya ditambahkan Silhouette Score untuk menentukan nilai K"
      ],
      "metadata": {
        "id": "sQoN9sxFvGc_"
      }
    },
    {
      "cell_type": "markdown",
      "source": [
        "### 3.3 Silhouette Score\n",
        "\n",
        "> Silhouette Score adalah metrik evaluasi yang digunakan untuk mengukur seberapa baik setiap titik data cocok dalam klaster yang telah ditugaskan kepadanya dalam metode klasterisasi, seperti K-Means. Metrik ini memberikan informasi tentang seberapa padat dan terpisahnya klaster yang telah dibentuk.\n",
        "\n",
        "> Silhouette Score berkisar antara -1 hingga 1. Untuk memilih nilai K yang optimal dalam klasterisasi menggunakan K-Means, dapat mencari nilai K yang memberikan Silhouette Score tertinggi. Nilai K yang memberikan skor Silhouette Score tertinggi seharusnya menunjukkan klasterisasi yang lebih baik dan lebih sesuai dengan data."
      ],
      "metadata": {
        "id": "zTP6mrH11-DX"
      }
    },
    {
      "cell_type": "code",
      "source": [
        "# Implementasi metode Silhouette Score\n",
        "silhouette_scores = []\n",
        "k_values = range(2, 11)  # Ubah range K sesuai kebutuhan\n",
        "\n",
        "for k in k_values:\n",
        "    kmeans = KMeans(n_clusters=k, random_state=0)\n",
        "    kmeans.fit(df_gab[columns_to_standardize])\n",
        "    silhouette_scores.append(silhouette_score(df_gab[columns_to_standardize], kmeans.labels_))\n",
        "\n",
        "# Plot nilai Silhouette Score untuk setiap nilai K\n",
        "plt.plot(k_values, silhouette_scores, marker='o')\n",
        "plt.xlabel('Number of Clusters (K)')\n",
        "plt.ylabel('Silhouette Score')\n",
        "plt.title('Silhouette Score for Optimal K')\n",
        "plt.show()"
      ],
      "metadata": {
        "colab": {
          "base_uri": "https://localhost:8080/",
          "height": 856
        },
        "id": "VZu1HiPqzn1P",
        "outputId": "dffb17bc-cfcc-495c-f105-a2b0bc2c9e73"
      },
      "execution_count": null,
      "outputs": [
        {
          "output_type": "stream",
          "name": "stderr",
          "text": [
            "/usr/local/lib/python3.10/dist-packages/sklearn/cluster/_kmeans.py:870: FutureWarning: The default value of `n_init` will change from 10 to 'auto' in 1.4. Set the value of `n_init` explicitly to suppress the warning\n",
            "  warnings.warn(\n",
            "/usr/local/lib/python3.10/dist-packages/sklearn/cluster/_kmeans.py:870: FutureWarning: The default value of `n_init` will change from 10 to 'auto' in 1.4. Set the value of `n_init` explicitly to suppress the warning\n",
            "  warnings.warn(\n",
            "/usr/local/lib/python3.10/dist-packages/sklearn/cluster/_kmeans.py:870: FutureWarning: The default value of `n_init` will change from 10 to 'auto' in 1.4. Set the value of `n_init` explicitly to suppress the warning\n",
            "  warnings.warn(\n",
            "/usr/local/lib/python3.10/dist-packages/sklearn/cluster/_kmeans.py:870: FutureWarning: The default value of `n_init` will change from 10 to 'auto' in 1.4. Set the value of `n_init` explicitly to suppress the warning\n",
            "  warnings.warn(\n",
            "/usr/local/lib/python3.10/dist-packages/sklearn/cluster/_kmeans.py:870: FutureWarning: The default value of `n_init` will change from 10 to 'auto' in 1.4. Set the value of `n_init` explicitly to suppress the warning\n",
            "  warnings.warn(\n",
            "/usr/local/lib/python3.10/dist-packages/sklearn/cluster/_kmeans.py:870: FutureWarning: The default value of `n_init` will change from 10 to 'auto' in 1.4. Set the value of `n_init` explicitly to suppress the warning\n",
            "  warnings.warn(\n",
            "/usr/local/lib/python3.10/dist-packages/sklearn/cluster/_kmeans.py:870: FutureWarning: The default value of `n_init` will change from 10 to 'auto' in 1.4. Set the value of `n_init` explicitly to suppress the warning\n",
            "  warnings.warn(\n",
            "/usr/local/lib/python3.10/dist-packages/sklearn/cluster/_kmeans.py:870: FutureWarning: The default value of `n_init` will change from 10 to 'auto' in 1.4. Set the value of `n_init` explicitly to suppress the warning\n",
            "  warnings.warn(\n",
            "/usr/local/lib/python3.10/dist-packages/sklearn/cluster/_kmeans.py:870: FutureWarning: The default value of `n_init` will change from 10 to 'auto' in 1.4. Set the value of `n_init` explicitly to suppress the warning\n",
            "  warnings.warn(\n"
          ]
        },
        {
          "output_type": "display_data",
          "data": {
            "text/plain": [
              "<Figure size 800x550 with 1 Axes>"
            ],
            "image/png": "[encoded data removed]"
          },
          "metadata": {}
        }
      ]
    },
    {
      "cell_type": "markdown",
      "source": [
        "> Berdasrkan hasil silhouette score diatas, menunjukkan bahwa Elbow Method yang tepat adalah 8"
      ],
      "metadata": {
        "id": "f5x7LjBZ0PD3"
      }
    },
    {
      "cell_type": "code",
      "source": [
        "from sklearn.metrics import silhouette_score\n",
        "\n",
        "# Implementasi metode elbow dan Silhouette Score\n",
        "inertia_values = []\n",
        "silhouette_scores = []\n",
        "k_values = range(2, 11)  # Ubah range K sesuai kebutuhan\n",
        "\n",
        "for k in k_values:\n",
        "    kmeans = KMeans(n_clusters=k, random_state=0)\n",
        "    kmeans.fit(df_gab[columns_to_standardize])\n",
        "    inertia_values.append(kmeans.inertia_)\n",
        "    silhouette_scores.append(silhouette_score(df_gab[columns_to_standardize], kmeans.labels_))\n",
        "\n",
        "# Plot nilai inersia dan Silhouette Score untuk setiap nilai K\n",
        "plt.figure(figsize=(10, 5))\n",
        "plt.subplot(1, 2, 1)\n",
        "plt.plot(k_values, inertia_values, marker='o')\n",
        "plt.xlabel('Number of Clusters (K)')\n",
        "plt.ylabel('Inertia')\n",
        "plt.title('Elbow Method for Optimal K')\n",
        "\n",
        "plt.subplot(1, 2, 2)\n",
        "plt.plot(k_values, silhouette_scores, marker='o')\n",
        "plt.xlabel('Number of Clusters (K)')\n",
        "plt.ylabel('Silhouette Score')\n",
        "plt.title('Silhouette Score for Optimal K')\n",
        "\n",
        "plt.tight_layout()\n",
        "plt.show()\n"
      ],
      "metadata": {
        "colab": {
          "base_uri": "https://localhost:8080/",
          "height": 833
        },
        "id": "WUznyIr3wBOd",
        "outputId": "0e03c807-873d-4c5f-8e63-3ae0acef503c"
      },
      "execution_count": null,
      "outputs": [
        {
          "output_type": "stream",
          "name": "stderr",
          "text": [
            "/usr/local/lib/python3.10/dist-packages/sklearn/cluster/_kmeans.py:870: FutureWarning: The default value of `n_init` will change from 10 to 'auto' in 1.4. Set the value of `n_init` explicitly to suppress the warning\n",
            "  warnings.warn(\n",
            "/usr/local/lib/python3.10/dist-packages/sklearn/cluster/_kmeans.py:870: FutureWarning: The default value of `n_init` will change from 10 to 'auto' in 1.4. Set the value of `n_init` explicitly to suppress the warning\n",
            "  warnings.warn(\n",
            "/usr/local/lib/python3.10/dist-packages/sklearn/cluster/_kmeans.py:870: FutureWarning: The default value of `n_init` will change from 10 to 'auto' in 1.4. Set the value of `n_init` explicitly to suppress the warning\n",
            "  warnings.warn(\n",
            "/usr/local/lib/python3.10/dist-packages/sklearn/cluster/_kmeans.py:870: FutureWarning: The default value of `n_init` will change from 10 to 'auto' in 1.4. Set the value of `n_init` explicitly to suppress the warning\n",
            "  warnings.warn(\n",
            "/usr/local/lib/python3.10/dist-packages/sklearn/cluster/_kmeans.py:870: FutureWarning: The default value of `n_init` will change from 10 to 'auto' in 1.4. Set the value of `n_init` explicitly to suppress the warning\n",
            "  warnings.warn(\n",
            "/usr/local/lib/python3.10/dist-packages/sklearn/cluster/_kmeans.py:870: FutureWarning: The default value of `n_init` will change from 10 to 'auto' in 1.4. Set the value of `n_init` explicitly to suppress the warning\n",
            "  warnings.warn(\n",
            "/usr/local/lib/python3.10/dist-packages/sklearn/cluster/_kmeans.py:870: FutureWarning: The default value of `n_init` will change from 10 to 'auto' in 1.4. Set the value of `n_init` explicitly to suppress the warning\n",
            "  warnings.warn(\n",
            "/usr/local/lib/python3.10/dist-packages/sklearn/cluster/_kmeans.py:870: FutureWarning: The default value of `n_init` will change from 10 to 'auto' in 1.4. Set the value of `n_init` explicitly to suppress the warning\n",
            "  warnings.warn(\n",
            "/usr/local/lib/python3.10/dist-packages/sklearn/cluster/_kmeans.py:870: FutureWarning: The default value of `n_init` will change from 10 to 'auto' in 1.4. Set the value of `n_init` explicitly to suppress the warning\n",
            "  warnings.warn(\n"
          ]
        },
        {
          "output_type": "display_data",
          "data": {
            "text/plain": [
              "<Figure size 1000x500 with 2 Axes>"
            ],
            "image/png": "[encoded data removed]"
          },
          "metadata": {}
        }
      ]
    },
    {
      "cell_type": "markdown",
      "metadata": {
        "id": "Dgb5KWrHXoty"
      },
      "source": [
        "### 3.3 Visualize Clusters\n",
        "\n",
        "> Berdasarkan hasil Elbow Method kemungkinan cluster optimal nya adalah 4 menurut saya pribadi\n",
        "\n",
        "> Namun bila menggunakan Silhouette Score, K yang optimal adalah 8\n",
        "\n",
        "> Maka sudah dapat divisualisasikan jika sudah menemukan nilai K yang optimal yaitu 4 atau 8\n",
        "\n",
        "> Notes: Disini saya juga akan mencoba memvisualisasi hasil cluster ketika K=4 dan K=8"
      ]
    },
    {
      "cell_type": "markdown",
      "source": [
        "#### 3.3.1 Clustering K=8"
      ],
      "metadata": {
        "id": "UtFpirEt3Wg5"
      }
    },
    {
      "cell_type": "code",
      "source": [
        "# Klasterisasi dengan K-Means dan K=8\n",
        "kmeans = KMeans(n_clusters=8, random_state=0)\n",
        "df_gab['cluster'] = kmeans.fit_predict(df_gab[columns_to_standardize])\n",
        "\n",
        "# Disimpan di variabel df_gab8 untuk memudahkan analisa\n",
        "daf_gab8 = df_gab['cluster']\n",
        "\n",
        "# Tampilkan hasil klasterisasi\n",
        "print(df_gab)"
      ],
      "metadata": {
        "colab": {
          "base_uri": "https://localhost:8080/"
        },
        "id": "DamTG9sc1UNY",
        "outputId": "dcbaa723-ce15-463a-f5fa-9a358cf54cf3"
      },
      "execution_count": null,
      "outputs": [
        {
          "output_type": "stream",
          "name": "stdout",
          "text": [
            "    customerid  tot_transaksi   tot_qty  tot_amount  customerid_numeric  \\\n",
            "0            1       1.779816  1.496527    2.094768                   0   \n",
            "1            2       0.545884  1.261093    0.239269                   1   \n",
            "2            3       1.162850  1.182615    0.672218                   2   \n",
            "3            4      -0.379565  0.397833   -0.482047                   3   \n",
            "4            5      -1.305014 -1.093251   -0.754347                   4   \n",
            "..         ...            ...       ...         ...                 ...   \n",
            "442        443       1.471333  1.418049    0.984681                 442   \n",
            "443        444       2.088298  1.653484    1.728488                 443   \n",
            "444        445       2.088298  2.124352    1.804796                 444   \n",
            "445        446      -0.071082  0.083921    0.488275                 445   \n",
            "446        447       0.545884  0.083921    0.616794                 446   \n",
            "\n",
            "     cluster  \n",
            "0          4  \n",
            "1          5  \n",
            "2          1  \n",
            "3          6  \n",
            "4          0  \n",
            "..       ...  \n",
            "442        1  \n",
            "443        4  \n",
            "444        4  \n",
            "445        2  \n",
            "446        5  \n",
            "\n",
            "[447 rows x 6 columns]\n"
          ]
        },
        {
          "output_type": "stream",
          "name": "stderr",
          "text": [
            "/usr/local/lib/python3.10/dist-packages/sklearn/cluster/_kmeans.py:870: FutureWarning: The default value of `n_init` will change from 10 to 'auto' in 1.4. Set the value of `n_init` explicitly to suppress the warning\n",
            "  warnings.warn(\n"
          ]
        }
      ]
    },
    {
      "cell_type": "markdown",
      "source": [
        "##### 3.3.1.1 Plot Visualisasi dalam 2D"
      ],
      "metadata": {
        "id": "fXdpc7XN1s03"
      }
    },
    {
      "cell_type": "code",
      "source": [
        "# Plot scatter untuk 2D\n",
        "plt.scatter(df_gab['tot_transaksi'], df_gab['tot_qty'], c=df_gab['cluster'], cmap='rainbow')\n",
        "plt.xlabel('Total Transactions')\n",
        "plt.ylabel('Total Quantity')\n",
        "plt.title('K-Means Clustering')\n",
        "plt.show()"
      ],
      "metadata": {
        "colab": {
          "base_uri": "https://localhost:8080/",
          "height": 524
        },
        "id": "Y8U0vVLO1xYo",
        "outputId": "42f9abc2-d618-47c4-866c-6775075c322c"
      },
      "execution_count": null,
      "outputs": [
        {
          "output_type": "display_data",
          "data": {
            "text/plain": [
              "<Figure size 800x550 with 1 Axes>"
            ],
            "image/png": "[encoded data removed]"
          },
          "metadata": {}
        }
      ]
    },
    {
      "cell_type": "markdown",
      "source": [
        "##### 3.3.1.2 Plot Visualisasi dalan 3D"
      ],
      "metadata": {
        "id": "bR1ng82p3BXZ"
      }
    },
    {
      "cell_type": "code",
      "source": [
        "# Plot 3D untuk tiga fitur\n",
        "fig = plt.figure()\n",
        "ax = fig.add_subplot(111, projection='3d')\n",
        "ax.scatter(df_gab['tot_transaksi'], df_gab['tot_qty'], df_gab['tot_amount'], c=df_gab['cluster'], cmap='rainbow')\n",
        "ax.set_xlabel('Total Transactions')\n",
        "ax.set_ylabel('Total Quantity')\n",
        "ax.set_zlabel('Total Amount')\n",
        "ax.set_title('K-Means Clustering (3D)')\n",
        "plt.show()"
      ],
      "metadata": {
        "colab": {
          "base_uri": "https://localhost:8080/",
          "height": 492
        },
        "id": "V_CW43O22_uY",
        "outputId": "d037ccbf-f549-49df-f472-fe882d325aef"
      },
      "execution_count": null,
      "outputs": [
        {
          "output_type": "display_data",
          "data": {
            "text/plain": [
              "<Figure size 800x550 with 1 Axes>"
            ],
            "image/png": "[encoded data removed]"
          },
          "metadata": {}
        }
      ]
    },
    {
      "cell_type": "markdown",
      "source": [
        "#### 3.3.2 Clustering K=4"
      ],
      "metadata": {
        "id": "c8qLafFB4HKB"
      }
    },
    {
      "cell_type": "code",
      "source": [
        "# Klasterisasi dengan K-Means dan K=4\n",
        "kmeans = KMeans(n_clusters=4, random_state=0)\n",
        "df_gab['cluster'] = kmeans.fit_predict(df_gab[columns_to_standardize])\n",
        "\n",
        "# disimpan ke variabel df_gab4 untuk memudahkan analisis\n",
        "df_gab4 = df_gab['cluster']\n",
        "# Tampilkan hasil klasterisasi\n",
        "print(df_gab4)"
      ],
      "metadata": {
        "colab": {
          "base_uri": "https://localhost:8080/"
        },
        "id": "ggwpvhc74KXK",
        "outputId": "cedf7d58-018e-4485-8ead-73d95c386296"
      },
      "execution_count": null,
      "outputs": [
        {
          "output_type": "stream",
          "name": "stdout",
          "text": [
            "0      3\n",
            "1      1\n",
            "2      1\n",
            "3      2\n",
            "4      0\n",
            "      ..\n",
            "442    3\n",
            "443    3\n",
            "444    3\n",
            "445    2\n",
            "446    1\n",
            "Name: cluster, Length: 447, dtype: int32\n"
          ]
        },
        {
          "output_type": "stream",
          "name": "stderr",
          "text": [
            "/usr/local/lib/python3.10/dist-packages/sklearn/cluster/_kmeans.py:870: FutureWarning: The default value of `n_init` will change from 10 to 'auto' in 1.4. Set the value of `n_init` explicitly to suppress the warning\n",
            "  warnings.warn(\n"
          ]
        }
      ]
    },
    {
      "cell_type": "markdown",
      "source": [
        "##### 3.3.2.1 Plot Visualisasi dalam 2D"
      ],
      "metadata": {
        "id": "mfpRHynW4PvK"
      }
    },
    {
      "cell_type": "code",
      "source": [
        "# Plot scatter untuk 2D\n",
        "plt.scatter(df_gab['tot_transaksi'], df_gab['tot_qty'], c=df_gab['cluster'], cmap='rainbow')\n",
        "plt.xlabel('Total Transactions')\n",
        "plt.ylabel('Total Quantity')\n",
        "plt.title('K-Means Clustering')\n",
        "plt.show()"
      ],
      "metadata": {
        "colab": {
          "base_uri": "https://localhost:8080/",
          "height": 524
        },
        "id": "BBkrpUv74VVa",
        "outputId": "1a59011a-1df4-4d22-9ec1-5757709a37a1"
      },
      "execution_count": null,
      "outputs": [
        {
          "output_type": "display_data",
          "data": {
            "text/plain": [
              "<Figure size 800x550 with 1 Axes>"
            ],
            "image/png": "[encoded data removed]"
          },
          "metadata": {}
        }
      ]
    },
    {
      "cell_type": "markdown",
      "source": [
        "##### 3.3.2.2 Plot Visualisasi dalam 3D"
      ],
      "metadata": {
        "id": "K664O1Mr77hj"
      }
    },
    {
      "cell_type": "code",
      "source": [
        "# Plot 3D untuk tiga fitur\n",
        "fig = plt.figure()\n",
        "ax = fig.add_subplot(111, projection='3d')\n",
        "ax.scatter(df_gab['tot_transaksi'], df_gab['tot_qty'], df_gab['tot_amount'], c=df_gab['cluster'], cmap='rainbow')\n",
        "ax.set_xlabel('Total Transactions')\n",
        "ax.set_ylabel('Total Quantity')\n",
        "ax.set_zlabel('Total Amount')\n",
        "ax.set_title('K-Means Clustering (3D)')\n",
        "plt.show()"
      ],
      "metadata": {
        "colab": {
          "base_uri": "https://localhost:8080/",
          "height": 492
        },
        "id": "m5TU9cXX8VtC",
        "outputId": "d648a9e8-82a2-46d8-b971-d06778f22329"
      },
      "execution_count": null,
      "outputs": [
        {
          "output_type": "display_data",
          "data": {
            "text/plain": [
              "<Figure size 800x550 with 1 Axes>"
            ],
            "image/png": "[encoded data removed]"
          },
          "metadata": {}
        }
      ]
    },
    {
      "cell_type": "markdown",
      "metadata": {
        "id": "a1aqaVd5f8dN"
      },
      "source": [
        "# Model Evaluation\n",
        "\n",
        "Pada tahap evaluasi model, akan dilakukan beberapa hal diantaranya:"
      ]
    },
    {
      "cell_type": "markdown",
      "source": [
        "## 4. Analisis Profil Klaster dan Jumlah data setiap klaster"
      ],
      "metadata": {
        "id": "sYo8nN38B2dv"
      }
    },
    {
      "cell_type": "markdown",
      "source": [
        "### 4.1 Analisis Profil Klaster dan Jumlah Data"
      ],
      "metadata": {
        "id": "NIaIGPKACqYZ"
      }
    },
    {
      "cell_type": "code",
      "source": [
        "# Analisis Profil Klaster\n",
        "cluster_profiles = df_gab.groupby('cluster')[columns_to_standardize].mean()\n",
        "print(\"Cluster Profiles:\")\n",
        "print(cluster_profiles)\n",
        "\n",
        "# Analisis Jumlah Data dalam Setiap Klaster\n",
        "cluster_counts = df_gab['cluster'].value_counts().sort_index()\n",
        "print(\"\\nJumlah Data dalam Setiap Klaster:\")\n",
        "print(cluster_counts)"
      ],
      "metadata": {
        "colab": {
          "base_uri": "https://localhost:8080/"
        },
        "id": "pOWLsYSn_11u",
        "outputId": "ca5eb3a5-7514-4365-e0a4-48052d6798a9"
      },
      "execution_count": null,
      "outputs": [
        {
          "output_type": "stream",
          "name": "stdout",
          "text": [
            "Cluster Profiles:\n",
            "         tot_transaksi   tot_qty  tot_amount\n",
            "cluster                                     \n",
            "0            -1.298380 -1.289025   -1.238834\n",
            "1             0.624357  0.639463    0.591922\n",
            "2            -0.247603 -0.281003   -0.295988\n",
            "3             1.569019  1.626016    1.683506\n",
            "\n",
            "Jumlah Data dalam Setiap Klaster:\n",
            "0     93\n",
            "1    114\n",
            "2    180\n",
            "3     60\n",
            "Name: cluster, dtype: int64\n"
          ]
        }
      ]
    },
    {
      "cell_type": "markdown",
      "source": [
        "### 4.2 Plot VisualisasiAnalisis Klaster"
      ],
      "metadata": {
        "id": "I9NjJAtzCAN1"
      }
    },
    {
      "cell_type": "code",
      "source": [
        "# Visualisasi Profil Klaster dalam Bentuk Bar Plot\n",
        "cluster_profiles.plot(kind='bar', colormap='rainbow')\n",
        "plt.xlabel('Cluster')\n",
        "plt.ylabel('Mean Value')\n",
        "plt.title('Cluster Profiles')\n",
        "plt.legend(title='Feature', bbox_to_anchor=(1, 1))\n",
        "plt.show()\n",
        "\n",
        "# Visualisasi Jumlah Data dalam Setiap Klaster dalam Bentuk Bar Plot\n",
        "cluster_counts.plot(kind='bar', color='purple')\n",
        "plt.xlabel('Cluster')\n",
        "plt.ylabel('Number of Data Points')\n",
        "plt.title('Number of Data Points in Each Cluster')\n",
        "plt.show()"
      ],
      "metadata": {
        "colab": {
          "base_uri": "https://localhost:8080/",
          "height": 1000
        },
        "id": "GH4b2cdwC_Hk",
        "outputId": "d561097e-400c-4b75-ef56-42b2f408c010"
      },
      "execution_count": null,
      "outputs": [
        {
          "output_type": "display_data",
          "data": {
            "text/plain": [
              "<Figure size 800x550 with 1 Axes>"
            ],
            "image/png": "[encoded data removed]"
          },
          "metadata": {}
        },
        {
          "output_type": "display_data",
          "data": {
            "text/plain": [
              "<Figure size 800x550 with 1 Axes>"
            ],
            "image/png": "[encoded data removed]"
          },
          "metadata": {}
        }
      ]
    },
    {
      "cell_type": "markdown",
      "source": [
        "\n",
        "\n",
        "* Cluster ke - 4 memiliki rata - rata fitur paling tinggi diantara cluster lainnya. Cluster ke - 1 memiliki rata- rata fitur paling kecil.\n",
        "* Cluster ke- 3 memiliki jumlah data paling banyak dan cluster ke - 4 memiliki jumlah data paling sedikit\n"
      ],
      "metadata": {
        "id": "Lj5K6xPuDuzQ"
      }
    },
    {
      "cell_type": "markdown",
      "source": [
        "# Interpretasi Bisnis"
      ],
      "metadata": {
        "id": "T4mxotyfGLrx"
      }
    },
    {
      "cell_type": "markdown",
      "source": [
        "## 5.1 Segmentasi pelanggan\n",
        "\n",
        "Membagi 4 jenis kelas pelanggan berdasarkan total amount dan total transaksi ssebagai berikut:\n",
        "\n",
        "1.   Diamond\n",
        "2.   Gold\n",
        "3.   Platinum\n",
        "4.   Bronze\n",
        "\n"
      ],
      "metadata": {
        "id": "-yp-R1uMGXsh"
      }
    },
    {
      "cell_type": "code",
      "source": [
        "# Inverse transform kolom numerik yang telah distandarisasi\n",
        "df_gab[columns_to_standardize] = scaler.inverse_transform(df_gab[columns_to_standardize])"
      ],
      "metadata": {
        "id": "4m46S9TQMj6C"
      },
      "execution_count": null,
      "outputs": []
    },
    {
      "cell_type": "markdown",
      "source": [
        "Mengembalikan nilai asli tiap cluster"
      ],
      "metadata": {
        "id": "9q8J9CJgOGNl"
      }
    },
    {
      "cell_type": "code",
      "source": [
        "# Memisahkan data pelanggan premium dan reguler berdasarkan klaster\n",
        "df_Diamond = df_gab[df_gab['cluster'] == 3]\n",
        "df_Gold = df_gab[df_gab['cluster'] == 1]\n",
        "df_Platinum = df_gab[df_gab['cluster'] == 2]\n",
        "df_Bronze = df_gab[df_gab['cluster'] == 0]\n"
      ],
      "metadata": {
        "id": "XmbyS1zoGUdF"
      },
      "execution_count": null,
      "outputs": []
    },
    {
      "cell_type": "code",
      "source": [
        "# Tampilkan hasil segmentasi pelanggan\n",
        "print(\"Data Pelanggan Diamond:\")\n",
        "print(df_Diamond)\n",
        "print(\"\\nData Pelanggan Gold:\")\n",
        "print(df_Gold)\n",
        "print(\"Data Pelanggan Platinum:\")\n",
        "print(df_Platinum)\n",
        "print(\"\\nData Pelanggan Bronze:\")\n",
        "print(df_Bronze)"
      ],
      "metadata": {
        "colab": {
          "base_uri": "https://localhost:8080/"
        },
        "id": "DVVaol25Hlp6",
        "outputId": "63efc1e1-184c-4098-c34d-e3a982a330f8"
      },
      "execution_count": null,
      "outputs": [
        {
          "output_type": "stream",
          "name": "stdout",
          "text": [
            "Data Pelanggan Diamond:\n",
            "    customerid  tot_transaksi      tot_qty    tot_amount  customerid_numeric  \\\n",
            "0            1      66.338818   805.474730  7.759796e+10                   0   \n",
            "6            7      66.338818   767.247526  6.209836e+10                   6   \n",
            "11          12      63.097148   818.217131  7.251858e+10                  11   \n",
            "12          13      72.822158   907.413941  8.328738e+10                  12   \n",
            "18          19      59.855478   843.701934  7.153507e+10                  18   \n",
            "19          20      59.855478   716.277920  6.579586e+10                  19   \n",
            "22          23      59.855478   741.762723  6.305697e+10                  22   \n",
            "28          29      59.855478   843.701934  5.588607e+10                  28   \n",
            "36          37      56.613808   958.383546  7.782206e+10                  36   \n",
            "43          44      72.822158   945.641145  6.770063e+10                  43   \n",
            "44          45      66.338818   729.020322  6.890823e+10                  44   \n",
            "46          47      59.855478   767.247526  6.863434e+10                  46   \n",
            "62          63      66.338818   754.505124  7.012828e+10                  62   \n",
            "71          72      63.097148   869.186737  8.303839e+10                  71   \n",
            "72          73      66.338818   818.217131  6.270839e+10                  72   \n",
            "83          84      63.097148   830.959533  5.861251e+10                  83   \n",
            "87          88      66.338818   830.959533  7.810839e+10                  87   \n",
            "88          89      72.822158  1047.580356  9.469110e+10                  88   \n",
            "105        106      63.097148   856.444335  6.913232e+10                 105   \n",
            "132        133      66.338818   754.505124  6.528543e+10                 132   \n",
            "155        156      79.305499   818.217131  7.259327e+10                 155   \n",
            "156        157      59.855478   869.186737  7.321575e+10                 156   \n",
            "157        158      66.338818   792.732328  6.061688e+10                 157   \n",
            "165        166      53.372137   881.929138  8.019991e+10                 165   \n",
            "166        167      66.338818   869.186737  7.474703e+10                 166   \n",
            "170        171      66.338818   907.413941  7.177161e+10                 170   \n",
            "171        172      66.338818   678.050716  6.733959e+10                 171   \n",
            "183        184      56.613808   856.444335  8.418374e+10                 183   \n",
            "188        189      69.580488   971.125947  7.041462e+10                 188   \n",
            "209        210      53.372137   779.989927  7.103709e+10                 209   \n",
            "218        219      63.097148   779.989927  6.400313e+10                 218   \n",
            "232        233      66.338818   869.186737  7.901721e+10                 232   \n",
            "233        234      66.338818   690.793118  6.260879e+10                 233   \n",
            "234        235      59.855478   907.413941  5.922253e+10                 234   \n",
            "239        240      59.855478   741.762723  6.527298e+10                 239   \n",
            "244        245      72.822158   958.383546  7.200815e+10                 244   \n",
            "259        260      59.855478   729.020322  7.330289e+10                 259   \n",
            "262        263      63.097148   805.474730  7.751082e+10                 262   \n",
            "269        270      63.097148   665.308315  6.562157e+10                 269   \n",
            "271        272      66.338818   779.989927  6.112730e+10                 271   \n",
            "280        281      63.097148   792.732328  6.221041e+10                 280   \n",
            "282        283      66.338818   818.217131  6.217306e+10                 282   \n",
            "298        299      56.613808   703.535519  7.273022e+10                 298   \n",
            "300        301      63.097148   716.277920  7.660201e+10                 300   \n",
            "302        303      63.097148   907.413941  6.823596e+10                 302   \n",
            "320        321      56.613808   767.247526  6.588300e+10                 320   \n",
            "328        329      66.338818   843.701934  6.558422e+10                 328   \n",
            "355        356      63.097148   767.247526  6.559667e+10                 355   \n",
            "364        365      76.063829   996.610750  1.054101e+11                 364   \n",
            "369        370      63.097148   741.762723  7.031502e+10                 369   \n",
            "383        384      63.097148   869.186737  8.244081e+10                 383   \n",
            "391        392      76.063829   945.641145  9.354575e+10                 391   \n",
            "415        416      56.613808   830.959533  6.364210e+10                 415   \n",
            "416        417      63.097148   945.641145  7.666425e+10                 416   \n",
            "421        422      59.855478   881.929138  6.654283e+10                 421   \n",
            "422        423      63.097148   830.959533  7.651486e+10                 422   \n",
            "426        427      56.613808   741.762723  7.155997e+10                 426   \n",
            "442        443      63.097148   792.732328  6.039278e+10                 442   \n",
            "443        444      69.580488   830.959533  7.192100e+10                 443   \n",
            "444        445      69.580488   907.413941  7.310370e+10                 444   \n",
            "\n",
            "     cluster  \n",
            "0          3  \n",
            "6          3  \n",
            "11         3  \n",
            "12         3  \n",
            "18         3  \n",
            "19         3  \n",
            "22         3  \n",
            "28         3  \n",
            "36         3  \n",
            "43         3  \n",
            "44         3  \n",
            "46         3  \n",
            "62         3  \n",
            "71         3  \n",
            "72         3  \n",
            "83         3  \n",
            "87         3  \n",
            "88         3  \n",
            "105        3  \n",
            "132        3  \n",
            "155        3  \n",
            "156        3  \n",
            "157        3  \n",
            "165        3  \n",
            "166        3  \n",
            "170        3  \n",
            "171        3  \n",
            "183        3  \n",
            "188        3  \n",
            "209        3  \n",
            "218        3  \n",
            "232        3  \n",
            "233        3  \n",
            "234        3  \n",
            "239        3  \n",
            "244        3  \n",
            "259        3  \n",
            "262        3  \n",
            "269        3  \n",
            "271        3  \n",
            "280        3  \n",
            "282        3  \n",
            "298        3  \n",
            "300        3  \n",
            "302        3  \n",
            "320        3  \n",
            "328        3  \n",
            "355        3  \n",
            "364        3  \n",
            "369        3  \n",
            "383        3  \n",
            "391        3  \n",
            "415        3  \n",
            "416        3  \n",
            "421        3  \n",
            "422        3  \n",
            "426        3  \n",
            "442        3  \n",
            "443        3  \n",
            "444        3  \n",
            "\n",
            "Data Pelanggan Gold:\n",
            "    customerid  tot_transaksi     tot_qty    tot_amount  customerid_numeric  \\\n",
            "1            2      53.372137  767.247526  4.883967e+10                   1   \n",
            "2            3      59.855478  754.505124  5.554994e+10                   2   \n",
            "5            6      43.647127  601.596308  5.715592e+10                   5   \n",
            "7            8      56.613808  639.823512  6.748899e+10                   7   \n",
            "9           10      56.613808  678.050716  5.950887e+10                   9   \n",
            "..         ...            ...         ...           ...                 ...   \n",
            "429        430      56.613808  716.277920  6.244695e+10                 429   \n",
            "433        434      53.372137  767.247526  6.348026e+10                 433   \n",
            "434        435      50.130467  703.535519  5.297290e+10                 434   \n",
            "437        438      56.613808  639.823512  5.691938e+10                 437   \n",
            "446        447      53.372137  576.111506  5.469092e+10                 446   \n",
            "\n",
            "     cluster  \n",
            "1          1  \n",
            "2          1  \n",
            "5          1  \n",
            "7          1  \n",
            "9          1  \n",
            "..       ...  \n",
            "429        1  \n",
            "433        1  \n",
            "434        1  \n",
            "437        1  \n",
            "446        1  \n",
            "\n",
            "[114 rows x 6 columns]\n",
            "Data Pelanggan Platinum:\n",
            "    customerid  tot_transaksi     tot_qty    tot_amount  customerid_numeric  \\\n",
            "3            4      43.647127  627.081111  3.766004e+10                   3   \n",
            "8            9      43.647127  601.596308  4.347394e+10                   8   \n",
            "13          14      50.130467  486.914696  4.961154e+10                  13   \n",
            "16          17      46.888797  563.369104  4.439520e+10                  16   \n",
            "20          21      43.647127  486.914696  3.733635e+10                  20   \n",
            "..         ...            ...         ...           ...                 ...   \n",
            "432        433      46.888797  448.687492  4.372293e+10                 432   \n",
            "435        436      43.647127  563.369104  4.337435e+10                 435   \n",
            "439        440      50.130467  550.626703  4.920070e+10                 439   \n",
            "441        442      53.372137  512.399499  3.353926e+10                 441   \n",
            "445        446      46.888797  576.111506  5.269901e+10                 445   \n",
            "\n",
            "     cluster  \n",
            "3          2  \n",
            "8          2  \n",
            "13         2  \n",
            "16         2  \n",
            "20         2  \n",
            "..       ...  \n",
            "432        2  \n",
            "435        2  \n",
            "439        2  \n",
            "441        2  \n",
            "445        2  \n",
            "\n",
            "[180 rows x 6 columns]\n",
            "\n",
            "Data Pelanggan Bronze:\n",
            "    customerid  tot_transaksi     tot_qty    tot_amount  customerid_numeric  \\\n",
            "4            5      33.922116  384.975485  3.343966e+10                   4   \n",
            "10          11      33.922116  397.717887  3.078792e+10                  10   \n",
            "24          25      20.955436  168.354662  1.146633e+10                  24   \n",
            "32          33      30.680446  359.490683  2.451339e+10                  32   \n",
            "40          41      30.680446  346.748281  2.562139e+10                  40   \n",
            "..         ...            ...         ...           ...                 ...   \n",
            "425        426      40.405457  372.233084  2.136367e+10                 425   \n",
            "431        432      27.438776  270.293873  2.482462e+10                 431   \n",
            "436        437      33.922116  397.717887  2.773780e+10                 436   \n",
            "438        439      33.922116  372.233084  1.416787e+10                 438   \n",
            "440        441      27.438776  206.581866  1.434216e+10                 440   \n",
            "\n",
            "     cluster  \n",
            "4          0  \n",
            "10         0  \n",
            "24         0  \n",
            "32         0  \n",
            "40         0  \n",
            "..       ...  \n",
            "425        0  \n",
            "431        0  \n",
            "436        0  \n",
            "438        0  \n",
            "440        0  \n",
            "\n",
            "[93 rows x 6 columns]\n"
          ]
        }
      ]
    },
    {
      "cell_type": "code",
      "source": [
        "#disimpan dalam data frame agar lebih enak dibaca\n",
        "# Tampilkan hasil segmentasi pelanggan\n",
        "df_Diamond\n",
        "df_Gold\n",
        "df_Platinum\n",
        "df_Bronze"
      ],
      "metadata": {
        "colab": {
          "base_uri": "https://localhost:8080/",
          "height": 424
        },
        "id": "K-8o3ntZMwGL",
        "outputId": "d64af7b1-7a94-4b62-e6cc-7721524b0589"
      },
      "execution_count": null,
      "outputs": [
        {
          "output_type": "execute_result",
          "data": {
            "text/plain": [
              "    customerid  tot_transaksi     tot_qty    tot_amount  customerid_numeric  \\\n",
              "4            5      33.922116  384.975485  3.343966e+10                   4   \n",
              "10          11      33.922116  397.717887  3.078792e+10                  10   \n",
              "24          25      20.955436  168.354662  1.146633e+10                  24   \n",
              "32          33      30.680446  359.490683  2.451339e+10                  32   \n",
              "40          41      30.680446  346.748281  2.562139e+10                  40   \n",
              "..         ...            ...         ...           ...                 ...   \n",
              "425        426      40.405457  372.233084  2.136367e+10                 425   \n",
              "431        432      27.438776  270.293873  2.482462e+10                 431   \n",
              "436        437      33.922116  397.717887  2.773780e+10                 436   \n",
              "438        439      33.922116  372.233084  1.416787e+10                 438   \n",
              "440        441      27.438776  206.581866  1.434216e+10                 440   \n",
              "\n",
              "     cluster  \n",
              "4          0  \n",
              "10         0  \n",
              "24         0  \n",
              "32         0  \n",
              "40         0  \n",
              "..       ...  \n",
              "425        0  \n",
              "431        0  \n",
              "436        0  \n",
              "438        0  \n",
              "440        0  \n",
              "\n",
              "[93 rows x 6 columns]"
            ],
            "text/html": [
              "\n",
              "\n",
              "  <div id=\"df-3f8951dd-fe7e-490f-ac29-2a9137666599\">\n",
              "    <div class=\"colab-df-container\">\n",
              "      <div>\n",
              "<style scoped>\n",
              "    .dataframe tbody tr th:only-of-type {\n",
              "        vertical-align: middle;\n",
              "    }\n",
              "\n",
              "    .dataframe tbody tr th {\n",
              "        vertical-align: top;\n",
              "    }\n",
              "\n",
              "    .dataframe thead th {\n",
              "        text-align: right;\n",
              "    }\n",
              "</style>\n",
              "<table border=\"1\" class=\"dataframe\">\n",
              "  <thead>\n",
              "    <tr style=\"text-align: right;\">\n",
              "      <th></th>\n",
              "      <th>customerid</th>\n",
              "      <th>tot_transaksi</th>\n",
              "      <th>tot_qty</th>\n",
              "      <th>tot_amount</th>\n",
              "      <th>customerid_numeric</th>\n",
              "      <th>cluster</th>\n",
              "    </tr>\n",
              "  </thead>\n",
              "  <tbody>\n",
              "    <tr>\n",
              "      <th>4</th>\n",
              "      <td>5</td>\n",
              "      <td>33.922116</td>\n",
              "      <td>384.975485</td>\n",
              "      <td>3.343966e+10</td>\n",
              "      <td>4</td>\n",
              "      <td>0</td>\n",
              "    </tr>\n",
              "    <tr>\n",
              "      <th>10</th>\n",
              "      <td>11</td>\n",
              "      <td>33.922116</td>\n",
              "      <td>397.717887</td>\n",
              "      <td>3.078792e+10</td>\n",
              "      <td>10</td>\n",
              "      <td>0</td>\n",
              "    </tr>\n",
              "    <tr>\n",
              "      <th>24</th>\n",
              "      <td>25</td>\n",
              "      <td>20.955436</td>\n",
              "      <td>168.354662</td>\n",
              "      <td>1.146633e+10</td>\n",
              "      <td>24</td>\n",
              "      <td>0</td>\n",
              "    </tr>\n",
              "    <tr>\n",
              "      <th>32</th>\n",
              "      <td>33</td>\n",
              "      <td>30.680446</td>\n",
              "      <td>359.490683</td>\n",
              "      <td>2.451339e+10</td>\n",
              "      <td>32</td>\n",
              "      <td>0</td>\n",
              "    </tr>\n",
              "    <tr>\n",
              "      <th>40</th>\n",
              "      <td>41</td>\n",
              "      <td>30.680446</td>\n",
              "      <td>346.748281</td>\n",
              "      <td>2.562139e+10</td>\n",
              "      <td>40</td>\n",
              "      <td>0</td>\n",
              "    </tr>\n",
              "    <tr>\n",
              "      <th>...</th>\n",
              "      <td>...</td>\n",
              "      <td>...</td>\n",
              "      <td>...</td>\n",
              "      <td>...</td>\n",
              "      <td>...</td>\n",
              "      <td>...</td>\n",
              "    </tr>\n",
              "    <tr>\n",
              "      <th>425</th>\n",
              "      <td>426</td>\n",
              "      <td>40.405457</td>\n",
              "      <td>372.233084</td>\n",
              "      <td>2.136367e+10</td>\n",
              "      <td>425</td>\n",
              "      <td>0</td>\n",
              "    </tr>\n",
              "    <tr>\n",
              "      <th>431</th>\n",
              "      <td>432</td>\n",
              "      <td>27.438776</td>\n",
              "      <td>270.293873</td>\n",
              "      <td>2.482462e+10</td>\n",
              "      <td>431</td>\n",
              "      <td>0</td>\n",
              "    </tr>\n",
              "    <tr>\n",
              "      <th>436</th>\n",
              "      <td>437</td>\n",
              "      <td>33.922116</td>\n",
              "      <td>397.717887</td>\n",
              "      <td>2.773780e+10</td>\n",
              "      <td>436</td>\n",
              "      <td>0</td>\n",
              "    </tr>\n",
              "    <tr>\n",
              "      <th>438</th>\n",
              "      <td>439</td>\n",
              "      <td>33.922116</td>\n",
              "      <td>372.233084</td>\n",
              "      <td>1.416787e+10</td>\n",
              "      <td>438</td>\n",
              "      <td>0</td>\n",
              "    </tr>\n",
              "    <tr>\n",
              "      <th>440</th>\n",
              "      <td>441</td>\n",
              "      <td>27.438776</td>\n",
              "      <td>206.581866</td>\n",
              "      <td>1.434216e+10</td>\n",
              "      <td>440</td>\n",
              "      <td>0</td>\n",
              "    </tr>\n",
              "  </tbody>\n",
              "</table>\n",
              "<p>93 rows × 6 columns</p>\n",
              "</div>\n",
              "      <button class=\"colab-df-convert\" onclick=\"convertToInteractive('df-3f8951dd-fe7e-490f-ac29-2a9137666599')\"\n",
              "              title=\"Convert this dataframe to an interactive table.\"\n",
              "              style=\"display:none;\">\n",
              "\n",
              "  <svg xmlns=\"http://www.w3.org/2000/svg\" height=\"24px\"viewBox=\"0 0 24 24\"\n",
              "       width=\"24px\">\n",
              "    <path d=\"M0 0h24v24H0V0z\" fill=\"none\"/>\n",
              "    <path d=\"M18.56 5.44l.94 2.06.94-2.06 2.06-.94-2.06-.94-.94-2.06-.94 2.06-2.06.94zm-11 1L8.5 8.5l.94-2.06 2.06-.94-2.06-.94L8.5 2.5l-.94 2.06-2.06.94zm10 10l.94 2.06.94-2.06 2.06-.94-2.06-.94-.94-2.06-.94 2.06-2.06.94z\"/><path d=\"M17.41 7.96l-1.37-1.37c-.4-.4-.92-.59-1.43-.59-.52 0-1.04.2-1.43.59L10.3 9.45l-7.72 7.72c-.78.78-.78 2.05 0 2.83L4 21.41c.39.39.9.59 1.41.59.51 0 1.02-.2 1.41-.59l7.78-7.78 2.81-2.81c.8-.78.8-2.07 0-2.86zM5.41 20L4 18.59l7.72-7.72 1.47 1.35L5.41 20z\"/>\n",
              "  </svg>\n",
              "      </button>\n",
              "\n",
              "\n",
              "\n",
              "    <div id=\"df-6ec0e68a-d3ce-403b-a3e4-e9e10e457e39\">\n",
              "      <button class=\"colab-df-quickchart\" onclick=\"quickchart('df-6ec0e68a-d3ce-403b-a3e4-e9e10e457e39')\"\n",
              "              title=\"Suggest charts.\"\n",
              "              style=\"display:none;\">\n",
              "\n",
              "<svg xmlns=\"http://www.w3.org/2000/svg\" height=\"24px\"viewBox=\"0 0 24 24\"\n",
              "     width=\"24px\">\n",
              "    <g>\n",
              "        <path d=\"M19 3H5c-1.1 0-2 .9-2 2v14c0 1.1.9 2 2 2h14c1.1 0 2-.9 2-2V5c0-1.1-.9-2-2-2zM9 17H7v-7h2v7zm4 0h-2V7h2v10zm4 0h-2v-4h2v4z\"/>\n",
              "    </g>\n",
              "</svg>\n",
              "      </button>\n",
              "    </div>\n",
              "\n",
              "<style>\n",
              "  .colab-df-quickchart {\n",
              "    background-color: #E8F0FE;\n",
              "    border: none;\n",
              "    border-radius: 50%;\n",
              "    cursor: pointer;\n",
              "    display: none;\n",
              "    fill: #1967D2;\n",
              "    height: 32px;\n",
              "    padding: 0 0 0 0;\n",
              "    width: 32px;\n",
              "  }\n",
              "\n",
              "  .colab-df-quickchart:hover {\n",
              "    background-color: #E2EBFA;\n",
              "    box-shadow: 0px 1px 2px rgba(60, 64, 67, 0.3), 0px 1px 3px 1px rgba(60, 64, 67, 0.15);\n",
              "    fill: #174EA6;\n",
              "  }\n",
              "\n",
              "  [theme=dark] .colab-df-quickchart {\n",
              "    background-color: #3B4455;\n",
              "    fill: #D2E3FC;\n",
              "  }\n",
              "\n",
              "  [theme=dark] .colab-df-quickchart:hover {\n",
              "    background-color: #434B5C;\n",
              "    box-shadow: 0px 1px 3px 1px rgba(0, 0, 0, 0.15);\n",
              "    filter: drop-shadow(0px 1px 2px rgba(0, 0, 0, 0.3));\n",
              "    fill: #FFFFFF;\n",
              "  }\n",
              "</style>\n",
              "\n",
              "    <script>\n",
              "      async function quickchart(key) {\n",
              "        const containerElement = document.querySelector('#' + key);\n",
              "        const charts = await google.colab.kernel.invokeFunction(\n",
              "            'suggestCharts', [key], {});\n",
              "      }\n",
              "    </script>\n",
              "\n",
              "      <script>\n",
              "\n",
              "function displayQuickchartButton(domScope) {\n",
              "  let quickchartButtonEl =\n",
              "    domScope.querySelector('#df-6ec0e68a-d3ce-403b-a3e4-e9e10e457e39 button.colab-df-quickchart');\n",
              "  quickchartButtonEl.style.display =\n",
              "    google.colab.kernel.accessAllowed ? 'block' : 'none';\n",
              "}\n",
              "\n",
              "        displayQuickchartButton(document);\n",
              "      </script>\n",
              "      <style>\n",
              "    .colab-df-container {\n",
              "      display:flex;\n",
              "      flex-wrap:wrap;\n",
              "      gap: 12px;\n",
              "    }\n",
              "\n",
              "    .colab-df-convert {\n",
              "      background-color: #E8F0FE;\n",
              "      border: none;\n",
              "      border-radius: 50%;\n",
              "      cursor: pointer;\n",
              "      display: none;\n",
              "      fill: #1967D2;\n",
              "      height: 32px;\n",
              "      padding: 0 0 0 0;\n",
              "      width: 32px;\n",
              "    }\n",
              "\n",
              "    .colab-df-convert:hover {\n",
              "      background-color: #E2EBFA;\n",
              "      box-shadow: 0px 1px 2px rgba(60, 64, 67, 0.3), 0px 1px 3px 1px rgba(60, 64, 67, 0.15);\n",
              "      fill: #174EA6;\n",
              "    }\n",
              "\n",
              "    [theme=dark] .colab-df-convert {\n",
              "      background-color: #3B4455;\n",
              "      fill: #D2E3FC;\n",
              "    }\n",
              "\n",
              "    [theme=dark] .colab-df-convert:hover {\n",
              "      background-color: #434B5C;\n",
              "      box-shadow: 0px 1px 3px 1px rgba(0, 0, 0, 0.15);\n",
              "      filter: drop-shadow(0px 1px 2px rgba(0, 0, 0, 0.3));\n",
              "      fill: #FFFFFF;\n",
              "    }\n",
              "  </style>\n",
              "\n",
              "      <script>\n",
              "        const buttonEl =\n",
              "          document.querySelector('#df-3f8951dd-fe7e-490f-ac29-2a9137666599 button.colab-df-convert');\n",
              "        buttonEl.style.display =\n",
              "          google.colab.kernel.accessAllowed ? 'block' : 'none';\n",
              "\n",
              "        async function convertToInteractive(key) {\n",
              "          const element = document.querySelector('#df-3f8951dd-fe7e-490f-ac29-2a9137666599');\n",
              "          const dataTable =\n",
              "            await google.colab.kernel.invokeFunction('convertToInteractive',\n",
              "                                                     [key], {});\n",
              "          if (!dataTable) return;\n",
              "\n",
              "          const docLinkHtml = 'Like what you see? Visit the ' +\n",
              "            '<a target=\"_blank\" href=https://colab.research.google.com/notebooks/data_table.ipynb>data table notebook</a>'\n",
              "            + ' to learn more about interactive tables.';\n",
              "          element.innerHTML = '';\n",
              "          dataTable['output_type'] = 'display_data';\n",
              "          await google.colab.output.renderOutput(dataTable, element);\n",
              "          const docLink = document.createElement('div');\n",
              "          docLink.innerHTML = docLinkHtml;\n",
              "          element.appendChild(docLink);\n",
              "        }\n",
              "      </script>\n",
              "    </div>\n",
              "  </div>\n"
            ]
          },
          "metadata": {},
          "execution_count": 119
        }
      ]
    },
    {
      "cell_type": "code",
      "source": [
        "# Visualisasi hasil segmentasi pelanggan\n",
        "plt.scatter(df_Diamond['tot_transaksi'], df_Diamond['tot_amount'], color='red', label='Diamond Customers (Klaster 3)')\n",
        "plt.scatter(df_Gold['tot_transaksi'], df_Gold['tot_amount'], color='blue', label='Gold Customers (Klaster 2)')\n",
        "plt.scatter(df_Platinum['tot_transaksi'], df_Platinum['tot_amount'], color='green', label='Platinum Customers (Klaster 1)')\n",
        "plt.scatter(df_Bronze['tot_transaksi'], df_Bronze['tot_amount'], color='brown', label='Bronze Customers (Klaster 0)')\n",
        "plt.xlabel('Total Transactions')\n",
        "plt.ylabel('Total amount')\n",
        "plt.title('Customer Segmentation')\n",
        "plt.legend()\n",
        "plt.show()"
      ],
      "metadata": {
        "colab": {
          "base_uri": "https://localhost:8080/",
          "height": 524
        },
        "id": "qjKzUmAeHsLw",
        "outputId": "31ce9903-0148-4f2c-9d19-fd48a406a325"
      },
      "execution_count": null,
      "outputs": [
        {
          "output_type": "display_data",
          "data": {
            "text/plain": [
              "<Figure size 800x550 with 1 Axes>"
            ],
            "image/png": "[encoded data removed]"
          },
          "metadata": {}
        }
      ]
    },
    {
      "cell_type": "markdown",
      "source": [
        "## 5.3 Total transaksi dan amount setiap klaster"
      ],
      "metadata": {
        "id": "lnCJvZo1Qfpv"
      }
    },
    {
      "cell_type": "code",
      "source": [
        "# Menampilkan total keseluruhan tot_transaksi dan tot_amount setiap klaster\n",
        "cluster_totals = df_gab.groupby('cluster')[['tot_transaksi', 'tot_amount']].sum()\n",
        "print(\"Total Keseluruhan Total Transactions dan Total Quantity dalam Setiap Klaster:\")\n",
        "print(cluster_totals)"
      ],
      "metadata": {
        "colab": {
          "base_uri": "https://localhost:8080/"
        },
        "id": "GgaHmo7yOhjz",
        "outputId": "363befcb-30bc-4a6d-dd7f-955355cd6f48"
      },
      "execution_count": null,
      "outputs": [
        {
          "output_type": "stream",
          "name": "stdout",
          "text": [
            "Total Keseluruhan Total Transactions dan Total Quantity dalam Setiap Klaster:\n",
            "         tot_transaksi    tot_amount\n",
            "cluster                             \n",
            "0          3161.240157  2.411548e+12\n",
            "1          6178.432096  6.190819e+12\n",
            "2          8106.091435  7.297875e+12\n",
            "3          3847.420608  4.273430e+12\n"
          ]
        }
      ]
    },
    {
      "cell_type": "markdown",
      "source": [
        "## 5.3 jumlah customer tiap cluster"
      ],
      "metadata": {
        "id": "H-T_3q6lJ2EJ"
      }
    },
    {
      "cell_type": "code",
      "source": [
        "# Menghitung jumlah pelanggan dalam setiap klaster\n",
        "customer_counts = df_gab['cluster'].value_counts()\n",
        "\n",
        "# Tampilkan jumlah pelanggan dalam setiap klaster\n",
        "print(\"Jumlah Pelanggan dalam Setiap Klaster:\")\n",
        "print(customer_counts)"
      ],
      "metadata": {
        "colab": {
          "base_uri": "https://localhost:8080/"
        },
        "id": "5JYngHfbIbA8",
        "outputId": "55e350d2-3cc9-4cfd-8b67-7799ed43ee42"
      },
      "execution_count": null,
      "outputs": [
        {
          "output_type": "stream",
          "name": "stdout",
          "text": [
            "Jumlah Pelanggan dalam Setiap Klaster:\n",
            "2    180\n",
            "1    114\n",
            "0     93\n",
            "3     60\n",
            "Name: cluster, dtype: int64\n"
          ]
        }
      ]
    },
    {
      "cell_type": "markdown",
      "source": [
        "* Pelanggan Diamond (Klaster 3) berjumlah 60\n",
        "* Pelanggan Gold (Klaster 2) berjumlah 180\n",
        "* Pelanggan Platinum (Klaster 1) berjumlah 114\n",
        "* Pelanggan Bronze (Klaster 0) berjumlah 93"
      ],
      "metadata": {
        "id": "gS1Bt5qJLD3q"
      }
    },
    {
      "cell_type": "markdown",
      "source": [
        "# Business Recommendation"
      ],
      "metadata": {
        "id": "ymDSaOcpTDa7"
      }
    },
    {
      "cell_type": "markdown",
      "source": [
        "> Berdasarkan Interpretasi bisnis yang ada, ada beberapa solusi bisnis yang dapat diajukan yaitu:\n",
        "* 60 pelanggan dalam klaster Diamond harus di pertahankan dengan memberikan banyak bonus dan kemudahan dalam berbelanja\n",
        "* Klaster Gold diusahakan agar dapat menajdi klaster Diamond, klaster Platinum diusahakan dapat berpindah menjadi klaster gold dengan memberikan promo menarik untuk meningkatkan frekuensi belanja dan amount yang di keluarkan\n",
        "* Merekomendasikan lebih banyak barang kepada klaster Bronze agar dapat memilih dan membeli barang lebih banyak"
      ],
      "metadata": {
        "id": "Bhw14-d9TKCU"
      }
    },
    {
      "cell_type": "code",
      "source": [],
      "metadata": {
        "id": "8oP6AS3oUc8C"
      },
      "execution_count": null,
      "outputs": []
    }
  ],
  "metadata": {
    "colab": {
      "provenance": [],
      "toc_visible": true
    },
    "kernelspec": {
      "display_name": "Python 3",
      "name": "python3"
    },
    "language_info": {
      "name": "python"
    }
  },
  "nbformat": 4,
  "nbformat_minor": 0
}